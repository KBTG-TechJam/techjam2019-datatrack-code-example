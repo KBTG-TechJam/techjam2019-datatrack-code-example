{
 "cells": [
  {
   "cell_type": "code",
   "execution_count": 1,
   "metadata": {},
   "outputs": [],
   "source": [
    "import os\n",
    "import datetime\n",
    "import gc\n",
    "\n",
    "import numpy as np\n",
    "import pandas as pd\n",
    "import matplotlib.pyplot as plt\n",
    "import lightgbm as lgb\n",
    "import numpy as np\n",
    "import seaborn as sns\n",
    "from scipy import stats\n",
    "\n",
    "from sklearn.preprocessing import StandardScaler\n",
    "from sklearn.model_selection import train_test_split\n",
    "from sklearn.preprocessing import QuantileTransformer\n",
    "\n",
    "### feature engineer part\n",
    "import techjam_fe\n",
    "\n",
    "%matplotlib inline"
   ]
  },
  {
   "cell_type": "code",
   "execution_count": 2,
   "metadata": {},
   "outputs": [],
   "source": [
    "def techjam_score(y_pred, y_true):\n",
    "    y_pred = np.array(y_pred)\n",
    "    y_true = np.array(y_true)\n",
    "    \n",
    "    return 100 - 100 * np.mean((y_pred-y_true) ** 2 / (np.minimum(2*y_true, y_pred) + y_true)**2)"
   ]
  },
  {
   "cell_type": "code",
   "execution_count": 3,
   "metadata": {},
   "outputs": [],
   "source": [
    "# Edit data directory here\n",
    "DATA_DIR = \".\\\\techjam\""
   ]
  },
  {
   "cell_type": "code",
   "execution_count": 4,
   "metadata": {},
   "outputs": [
    {
     "name": "stderr",
     "output_type": "stream",
     "text": [
      "C:\\Users\\phiratath.n\\Desktop\\tj\\techjam_fe.py:28: FutureWarning: Sorting because non-concatenation axis is not aligned. A future version\n",
      "of pandas will change to not sort by default.\n",
      "\n",
      "To accept the future behavior, pass 'sort=False'.\n",
      "\n",
      "To retain the current behavior and silence the warning, pass 'sort=True'.\n",
      "\n",
      "  label = pd.concat([train,test],axis=0,ignore_index=True)\n"
     ]
    }
   ],
   "source": [
    "X, y, test_df = techjam_fe.get_prep_data(DATA_DIR)"
   ]
  },
  {
   "cell_type": "code",
   "execution_count": 5,
   "metadata": {},
   "outputs": [],
   "source": [
    "#### Add categorical feature\n",
    "categorical_feats = ['gender','ocp_cd','age_gnd','gnd_ocp','age_ocp']\n",
    "X[categorical_feats] = X[categorical_feats].astype('category')\n",
    "test_df[categorical_feats] = test_df[categorical_feats].astype('category')"
   ]
  },
  {
   "cell_type": "code",
   "execution_count": 6,
   "metadata": {},
   "outputs": [],
   "source": [
    "X.reset_index(drop=True,inplace=True)\n",
    "test_df.reset_index(inplace=True)"
   ]
  },
  {
   "cell_type": "markdown",
   "metadata": {},
   "source": [
    "# Test Train Split"
   ]
  },
  {
   "cell_type": "code",
   "execution_count": 7,
   "metadata": {},
   "outputs": [],
   "source": [
    "### Log Transformation\n",
    "y_log = np.log(y)"
   ]
  },
  {
   "cell_type": "code",
   "execution_count": 8,
   "metadata": {},
   "outputs": [],
   "source": [
    "X_train, X_test, y_train, y_test = train_test_split(X, y_log, test_size=0.2, random_state=42)\n",
    "\n",
    "X_train, X_val, y_train, y_val = train_test_split(X_train, y_train, test_size=0.2, random_state=42)"
   ]
  },
  {
   "cell_type": "markdown",
   "metadata": {},
   "source": [
    "# Model "
   ]
  },
  {
   "cell_type": "code",
   "execution_count": 9,
   "metadata": {},
   "outputs": [],
   "source": [
    "lgb_train = lgb.Dataset(X_train, y_train)\n",
    "lgb_eval = lgb.Dataset(X_val, y_val, reference=lgb_train)"
   ]
  },
  {
   "cell_type": "code",
   "execution_count": 10,
   "metadata": {},
   "outputs": [],
   "source": [
    "##### Log Transformation "
   ]
  },
  {
   "cell_type": "code",
   "execution_count": 11,
   "metadata": {},
   "outputs": [],
   "source": [
    "def techjam_feval(y_pred, dtrain):\n",
    "    y_true = dtrain.get_label()\n",
    "    return 'techjam_score', techjam_score(np.exp(y_pred), np.exp(y_true)), True"
   ]
  },
  {
   "cell_type": "code",
   "execution_count": 12,
   "metadata": {},
   "outputs": [],
   "source": [
    "pred_score_list=[]"
   ]
  },
  {
   "cell_type": "code",
   "execution_count": 13,
   "metadata": {},
   "outputs": [],
   "source": [
    "\n",
    "model_params = {\n",
    "    \"objective\": \"mape\",\n",
    "    'boosting_type': 'gbdt',\n",
    "    'metric': {'mape'},\n",
    "    'num_leaves': 511,\n",
    "    'learning_rate': 0.01,\n",
    "    'feature_fraction': 0.7,\n",
    "    'bagging_fraction': 0.8,\n",
    "    'bagging_freq': 5,\n",
    "    'verbose': 0\n",
    "}"
   ]
  },
  {
   "cell_type": "code",
   "execution_count": 14,
   "metadata": {},
   "outputs": [
    {
     "name": "stdout",
     "output_type": "stream",
     "text": [
      "Training until validation scores don't improve for 50 rounds\n",
      "[50]\tvalid_0's mape: 0.0454491\tvalid_0's techjam_score: 91.3665\n",
      "[100]\tvalid_0's mape: 0.0422578\tvalid_0's techjam_score: 92.1406\n",
      "[150]\tvalid_0's mape: 0.0407483\tvalid_0's techjam_score: 92.4009\n",
      "[200]\tvalid_0's mape: 0.04001\tvalid_0's techjam_score: 92.4645\n",
      "[250]\tvalid_0's mape: 0.0396312\tvalid_0's techjam_score: 92.4538\n",
      "Early stopping, best iteration is:\n",
      "[219]\tvalid_0's mape: 0.0398344\tvalid_0's techjam_score: 92.4686\n"
     ]
    }
   ],
   "source": [
    "gbm = lgb.train(model_params,\n",
    "                lgb_train,\n",
    "                num_boost_round=1000,\n",
    "                valid_sets=lgb_eval,\n",
    "                feval= techjam_feval,\n",
    "                verbose_eval=50,\n",
    "                early_stopping_rounds=50)"
   ]
  },
  {
   "cell_type": "code",
   "execution_count": 15,
   "metadata": {},
   "outputs": [],
   "source": [
    "y_pred = gbm.predict(X_test, num_iteration=gbm.best_iteration)"
   ]
  },
  {
   "cell_type": "code",
   "execution_count": 16,
   "metadata": {},
   "outputs": [
    {
     "name": "stderr",
     "output_type": "stream",
     "text": [
      "C:\\Users\\phiratath.n\\AppData\\Local\\Continuum\\anaconda3\\lib\\site-packages\\ipykernel_launcher.py:1: SettingWithCopyWarning: \n",
      "A value is trying to be set on a copy of a slice from a DataFrame.\n",
      "Try using .loc[row_indexer,col_indexer] = value instead\n",
      "\n",
      "See the caveats in the documentation: http://pandas.pydata.org/pandas-docs/stable/indexing.html#indexing-view-versus-copy\n",
      "  \"\"\"Entry point for launching an IPython kernel.\n"
     ]
    }
   ],
   "source": [
    "X_test['pred'] = np.exp(y_pred)"
   ]
  },
  {
   "cell_type": "code",
   "execution_count": 17,
   "metadata": {},
   "outputs": [],
   "source": [
    "pred_score_list.append(np.exp(y_pred))"
   ]
  },
  {
   "cell_type": "code",
   "execution_count": 18,
   "metadata": {},
   "outputs": [
    {
     "data": {
      "text/plain": [
       "92.23411368496367"
      ]
     },
     "execution_count": 18,
     "metadata": {},
     "output_type": "execute_result"
    }
   ],
   "source": [
    "techjam_score(X_test['pred'],np.exp(y_test['income']))"
   ]
  },
  {
   "cell_type": "code",
   "execution_count": 19,
   "metadata": {},
   "outputs": [],
   "source": [
    "#### Raw Income"
   ]
  },
  {
   "cell_type": "code",
   "execution_count": 20,
   "metadata": {},
   "outputs": [],
   "source": [
    "def techjam_feval_no_log(y_pred, dtrain):\n",
    "    y_true = dtrain.get_label()\n",
    "    return 'techjam_score', techjam_score((y_pred), (y_true)), True"
   ]
  },
  {
   "cell_type": "code",
   "execution_count": 21,
   "metadata": {},
   "outputs": [],
   "source": [
    "X_train, X_test, y_train, y_test = train_test_split(X, y, test_size=0.2, random_state=42)\n",
    "\n",
    "X_train, X_val, y_train, y_val = train_test_split(X_train, (y_train), test_size=0.2, random_state=42)"
   ]
  },
  {
   "cell_type": "code",
   "execution_count": 22,
   "metadata": {},
   "outputs": [],
   "source": [
    "lgb_train = lgb.Dataset(X_train, y_train,free_raw_data=False)\n",
    "lgb_eval = lgb.Dataset(X_val, y_val,free_raw_data=False, reference=lgb_train)"
   ]
  },
  {
   "cell_type": "code",
   "execution_count": 23,
   "metadata": {},
   "outputs": [
    {
     "name": "stdout",
     "output_type": "stream",
     "text": [
      "Training until validation scores don't improve for 50 rounds\n",
      "[50]\tvalid_0's mape: 0.403095\tvalid_0's techjam_score: 88.7412\n",
      "[100]\tvalid_0's mape: 0.388182\tvalid_0's techjam_score: 89.7564\n",
      "[150]\tvalid_0's mape: 0.380022\tvalid_0's techjam_score: 90.3626\n",
      "[200]\tvalid_0's mape: 0.375079\tvalid_0's techjam_score: 90.77\n",
      "[250]\tvalid_0's mape: 0.372082\tvalid_0's techjam_score: 91.0265\n",
      "[300]\tvalid_0's mape: 0.370303\tvalid_0's techjam_score: 91.2138\n",
      "[350]\tvalid_0's mape: 0.369347\tvalid_0's techjam_score: 91.3234\n",
      "[400]\tvalid_0's mape: 0.368815\tvalid_0's techjam_score: 91.4065\n",
      "[450]\tvalid_0's mape: 0.368535\tvalid_0's techjam_score: 91.4577\n",
      "[500]\tvalid_0's mape: 0.368326\tvalid_0's techjam_score: 91.5051\n",
      "[550]\tvalid_0's mape: 0.368207\tvalid_0's techjam_score: 91.5427\n",
      "[600]\tvalid_0's mape: 0.368149\tvalid_0's techjam_score: 91.576\n",
      "[650]\tvalid_0's mape: 0.368131\tvalid_0's techjam_score: 91.6003\n",
      "[700]\tvalid_0's mape: 0.368097\tvalid_0's techjam_score: 91.627\n",
      "[750]\tvalid_0's mape: 0.368141\tvalid_0's techjam_score: 91.6524\n",
      "Early stopping, best iteration is:\n",
      "[719]\tvalid_0's mape: 0.36809\tvalid_0's techjam_score: 91.6361\n"
     ]
    }
   ],
   "source": [
    "gbm = lgb.train(model_params,\n",
    "                lgb_train,\n",
    "                num_boost_round=1000,\n",
    "                valid_sets=lgb_eval,\n",
    "                feval= techjam_feval_no_log,\n",
    "                verbose_eval=50,\n",
    "                early_stopping_rounds=50)"
   ]
  },
  {
   "cell_type": "code",
   "execution_count": 24,
   "metadata": {},
   "outputs": [],
   "source": [
    "y_pred = gbm.predict(X_test, num_iteration=gbm.best_iteration)\n",
    "\n"
   ]
  },
  {
   "cell_type": "code",
   "execution_count": 25,
   "metadata": {},
   "outputs": [
    {
     "name": "stderr",
     "output_type": "stream",
     "text": [
      "C:\\Users\\phiratath.n\\AppData\\Local\\Continuum\\anaconda3\\lib\\site-packages\\ipykernel_launcher.py:1: SettingWithCopyWarning: \n",
      "A value is trying to be set on a copy of a slice from a DataFrame.\n",
      "Try using .loc[row_indexer,col_indexer] = value instead\n",
      "\n",
      "See the caveats in the documentation: http://pandas.pydata.org/pandas-docs/stable/indexing.html#indexing-view-versus-copy\n",
      "  \"\"\"Entry point for launching an IPython kernel.\n"
     ]
    }
   ],
   "source": [
    "X_test['pred'] = y_pred"
   ]
  },
  {
   "cell_type": "code",
   "execution_count": 26,
   "metadata": {},
   "outputs": [],
   "source": [
    "pred_score_list.append(y_pred)"
   ]
  },
  {
   "cell_type": "code",
   "execution_count": 27,
   "metadata": {},
   "outputs": [
    {
     "data": {
      "text/plain": [
       "91.49487739514275"
      ]
     },
     "execution_count": 27,
     "metadata": {},
     "output_type": "execute_result"
    }
   ],
   "source": [
    "techjam_score(X_test['pred'],y_test['income'])"
   ]
  },
  {
   "cell_type": "code",
   "execution_count": 28,
   "metadata": {},
   "outputs": [],
   "source": [
    "#### Quantile Transformer"
   ]
  },
  {
   "cell_type": "code",
   "execution_count": 29,
   "metadata": {},
   "outputs": [],
   "source": [
    "from sklearn.preprocessing import QuantileTransformer"
   ]
  },
  {
   "cell_type": "code",
   "execution_count": 30,
   "metadata": {},
   "outputs": [],
   "source": [
    "def techjam_feval_quantile(y_pred, dtrain):\n",
    "    y_true = dtrain.get_label()\n",
    "    y_pred = qt.inverse_transform(y_pred.reshape((len(y_pred), 1)))[:,0]\n",
    "    y_true = qt.inverse_transform(y_true.reshape((len(y_true), 1)))[:,0]\n",
    "    return 'techjam_score', techjam_score(y_pred, y_true), True"
   ]
  },
  {
   "cell_type": "code",
   "execution_count": 31,
   "metadata": {},
   "outputs": [],
   "source": [
    "#### Leak in Validate set"
   ]
  },
  {
   "cell_type": "code",
   "execution_count": 32,
   "metadata": {},
   "outputs": [],
   "source": [
    "qt = QuantileTransformer(n_quantiles=10000, output_distribution='uniform', random_state=42)\n",
    "#y_q = qt.fit_transform(y_train.values.reshape((len(y_q), 1)))[:,0]\n",
    "#y_val = qt.transform(y_val.values.reshape((len(y_val), 1)))[:,0]"
   ]
  },
  {
   "cell_type": "code",
   "execution_count": 33,
   "metadata": {},
   "outputs": [],
   "source": [
    "X_train, X_test, y_train, y_test = train_test_split(X, (y), test_size=0.2, random_state=42)\n",
    "y_q = qt.fit_transform(y_train.values.reshape((len(y_train), 1)))[:,0]\n",
    "\n",
    "X_train, X_val, y_train, y_val = train_test_split(X_train, (y_q), test_size=0.2, random_state=42)"
   ]
  },
  {
   "cell_type": "code",
   "execution_count": 34,
   "metadata": {},
   "outputs": [],
   "source": [
    "lgb_train = lgb.Dataset(X_train, y_train,free_raw_data=False)\n",
    "lgb_eval = lgb.Dataset(X_val, y_val,free_raw_data=False, reference=lgb_train)"
   ]
  },
  {
   "cell_type": "code",
   "execution_count": 35,
   "metadata": {},
   "outputs": [
    {
     "name": "stdout",
     "output_type": "stream",
     "text": [
      "Training until validation scores don't improve for 50 rounds\n",
      "[50]\tvalid_0's mape: 0.212844\tvalid_0's techjam_score: 91.1185\n",
      "[100]\tvalid_0's mape: 0.195744\tvalid_0's techjam_score: 91.9179\n",
      "[150]\tvalid_0's mape: 0.187604\tvalid_0's techjam_score: 92.2658\n",
      "[200]\tvalid_0's mape: 0.183451\tvalid_0's techjam_score: 92.4142\n",
      "[250]\tvalid_0's mape: 0.181352\tvalid_0's techjam_score: 92.4658\n",
      "[300]\tvalid_0's mape: 0.180217\tvalid_0's techjam_score: 92.4769\n",
      "Early stopping, best iteration is:\n",
      "[286]\tvalid_0's mape: 0.180478\tvalid_0's techjam_score: 92.4791\n"
     ]
    }
   ],
   "source": [
    "gbm = lgb.train(model_params,\n",
    "                lgb_train,\n",
    "                num_boost_round=1000,\n",
    "                valid_sets=lgb_eval,\n",
    "                feval= techjam_feval_quantile,\n",
    "                verbose_eval=50,\n",
    "                early_stopping_rounds=50)"
   ]
  },
  {
   "cell_type": "code",
   "execution_count": 36,
   "metadata": {},
   "outputs": [],
   "source": [
    "y_pred = gbm.predict(X_test, num_iteration=gbm.best_iteration)\n",
    "y_pred = qt.inverse_transform(y_pred.reshape((len(y_pred), 1)))[:,0]"
   ]
  },
  {
   "cell_type": "code",
   "execution_count": 37,
   "metadata": {},
   "outputs": [
    {
     "name": "stderr",
     "output_type": "stream",
     "text": [
      "C:\\Users\\phiratath.n\\AppData\\Local\\Continuum\\anaconda3\\lib\\site-packages\\ipykernel_launcher.py:1: SettingWithCopyWarning: \n",
      "A value is trying to be set on a copy of a slice from a DataFrame.\n",
      "Try using .loc[row_indexer,col_indexer] = value instead\n",
      "\n",
      "See the caveats in the documentation: http://pandas.pydata.org/pandas-docs/stable/indexing.html#indexing-view-versus-copy\n",
      "  \"\"\"Entry point for launching an IPython kernel.\n"
     ]
    }
   ],
   "source": [
    "X_test['pred'] = y_pred"
   ]
  },
  {
   "cell_type": "code",
   "execution_count": 38,
   "metadata": {},
   "outputs": [
    {
     "data": {
      "text/plain": [
       "92.27426540465012"
      ]
     },
     "execution_count": 38,
     "metadata": {},
     "output_type": "execute_result"
    }
   ],
   "source": [
    "techjam_score(X_test['pred'],y_test['income'])"
   ]
  },
  {
   "cell_type": "code",
   "execution_count": 39,
   "metadata": {},
   "outputs": [],
   "source": [
    "#### No leak in Validate set"
   ]
  },
  {
   "cell_type": "code",
   "execution_count": 40,
   "metadata": {},
   "outputs": [],
   "source": [
    "qt = QuantileTransformer(n_quantiles=10000, output_distribution='uniform', random_state=42)"
   ]
  },
  {
   "cell_type": "code",
   "execution_count": 41,
   "metadata": {},
   "outputs": [],
   "source": [
    "X_train, X_test, y_train, y_test = train_test_split(X, (y), test_size=0.2, random_state=42)\n",
    "#y_q = qt.fit_transform(y_train.values.reshape((len(y_train), 1)))[:,0]\n",
    "\n",
    "X_train, X_val, y_train, y_val = train_test_split(X_train, (y_train), test_size=0.2, random_state=42)"
   ]
  },
  {
   "cell_type": "code",
   "execution_count": 42,
   "metadata": {},
   "outputs": [],
   "source": [
    "\n",
    "y_raw = y_train.copy()\n",
    "\n",
    "#### Split before use transformer\n",
    "\n",
    "y_train= qt.fit_transform(y_train.values.reshape((len(y_train), 1)))[:,0]\n",
    "\n",
    "### Only transform\n",
    "\n",
    "y_val= qt.transform(y_val.values.reshape((len(y_val), 1)))[:,0]"
   ]
  },
  {
   "cell_type": "code",
   "execution_count": 43,
   "metadata": {},
   "outputs": [],
   "source": [
    "#### Compare distribution"
   ]
  },
  {
   "cell_type": "code",
   "execution_count": 44,
   "metadata": {},
   "outputs": [
    {
     "data": {
      "text/plain": [
       "array([ 53000., 185000.,  21000., ...,  48000., 307000., 198000.])"
      ]
     },
     "execution_count": 44,
     "metadata": {},
     "output_type": "execute_result"
    }
   ],
   "source": [
    "y_raw.values.reshape((len(y_train), 1))[:,0]"
   ]
  },
  {
   "cell_type": "code",
   "execution_count": 45,
   "metadata": {},
   "outputs": [
    {
     "name": "stderr",
     "output_type": "stream",
     "text": [
      "C:\\Users\\phiratath.n\\AppData\\Local\\Continuum\\anaconda3\\lib\\site-packages\\scipy\\stats\\stats.py:1713: FutureWarning: Using a non-tuple sequence for multidimensional indexing is deprecated; use `arr[tuple(seq)]` instead of `arr[seq]`. In the future this will be interpreted as an array index, `arr[np.array(seq)]`, which will result either in an error or a different result.\n",
      "  return np.add.reduce(sorted[indexer] * weights, axis=axis) / sumval\n"
     ]
    },
    {
     "data": {
      "text/plain": [
       "<matplotlib.legend.Legend at 0x19e3aa1dac8>"
      ]
     },
     "execution_count": 45,
     "metadata": {},
     "output_type": "execute_result"
    },
    {
     "data": {
      "image/png": "[encoded data removed]",
      "text/plain": [
       "<Figure size 432x288 with 1 Axes>"
      ]
     },
     "metadata": {},
     "output_type": "display_data"
    }
   ],
   "source": [
    "\n",
    "\n",
    "ax = sns.kdeplot(y_raw.values.reshape((len(y_train), 1))[:,0], label='raw_income')\n",
    "#ax = sns.kdeplot(y_train, label='income')\n",
    "ax.set(xlabel='income', ylabel='density')\n",
    "plt.legend()"
   ]
  },
  {
   "cell_type": "code",
   "execution_count": 46,
   "metadata": {},
   "outputs": [
    {
     "name": "stderr",
     "output_type": "stream",
     "text": [
      "C:\\Users\\phiratath.n\\AppData\\Local\\Continuum\\anaconda3\\lib\\site-packages\\scipy\\stats\\stats.py:1713: FutureWarning: Using a non-tuple sequence for multidimensional indexing is deprecated; use `arr[tuple(seq)]` instead of `arr[seq]`. In the future this will be interpreted as an array index, `arr[np.array(seq)]`, which will result either in an error or a different result.\n",
      "  return np.add.reduce(sorted[indexer] * weights, axis=axis) / sumval\n"
     ]
    },
    {
     "data": {
      "text/plain": [
       "<matplotlib.legend.Legend at 0x19e3aa1c518>"
      ]
     },
     "execution_count": 46,
     "metadata": {},
     "output_type": "execute_result"
    },
    {
     "data": {
      "image/png": "[encoded data removed]",
      "text/plain": [
       "<Figure size 432x288 with 1 Axes>"
      ]
     },
     "metadata": {},
     "output_type": "display_data"
    }
   ],
   "source": [
    "#ax = sns.kdeplot(y_raw, label='raw_income')\n",
    "ax = sns.kdeplot(y_train, label='income')\n",
    "ax.set(xlabel='income', ylabel='density')\n",
    "plt.legend()"
   ]
  },
  {
   "cell_type": "code",
   "execution_count": 47,
   "metadata": {},
   "outputs": [],
   "source": [
    "lgb_train = lgb.Dataset(X_train,y_train,free_raw_data=False)\n",
    "lgb_eval = lgb.Dataset(X_val, y_val,free_raw_data=False, reference=lgb_train)"
   ]
  },
  {
   "cell_type": "code",
   "execution_count": 48,
   "metadata": {},
   "outputs": [
    {
     "name": "stdout",
     "output_type": "stream",
     "text": [
      "Training until validation scores don't improve for 50 rounds\n",
      "[50]\tvalid_0's mape: 0.212269\tvalid_0's techjam_score: 91.1147\n",
      "[100]\tvalid_0's mape: 0.195202\tvalid_0's techjam_score: 91.9151\n",
      "[150]\tvalid_0's mape: 0.186972\tvalid_0's techjam_score: 92.276\n",
      "[200]\tvalid_0's mape: 0.182923\tvalid_0's techjam_score: 92.4251\n",
      "[250]\tvalid_0's mape: 0.180862\tvalid_0's techjam_score: 92.471\n",
      "[300]\tvalid_0's mape: 0.179738\tvalid_0's techjam_score: 92.4783\n",
      "Early stopping, best iteration is:\n",
      "[291]\tvalid_0's mape: 0.179886\tvalid_0's techjam_score: 92.4882\n"
     ]
    }
   ],
   "source": [
    "gbm = lgb.train(model_params,\n",
    "                lgb_train,\n",
    "                num_boost_round=1000,\n",
    "                valid_sets=lgb_eval,\n",
    "                feval= techjam_feval_quantile,\n",
    "                verbose_eval=50,\n",
    "                early_stopping_rounds=50)"
   ]
  },
  {
   "cell_type": "code",
   "execution_count": 49,
   "metadata": {},
   "outputs": [],
   "source": [
    "y_pred = gbm.predict(X_test, num_iteration=gbm.best_iteration)\n",
    "y_pred = qt.inverse_transform(y_pred.reshape((len(y_pred), 1)))[:,0]"
   ]
  },
  {
   "cell_type": "code",
   "execution_count": 50,
   "metadata": {},
   "outputs": [
    {
     "name": "stderr",
     "output_type": "stream",
     "text": [
      "C:\\Users\\phiratath.n\\AppData\\Local\\Continuum\\anaconda3\\lib\\site-packages\\ipykernel_launcher.py:1: SettingWithCopyWarning: \n",
      "A value is trying to be set on a copy of a slice from a DataFrame.\n",
      "Try using .loc[row_indexer,col_indexer] = value instead\n",
      "\n",
      "See the caveats in the documentation: http://pandas.pydata.org/pandas-docs/stable/indexing.html#indexing-view-versus-copy\n",
      "  \"\"\"Entry point for launching an IPython kernel.\n"
     ]
    }
   ],
   "source": [
    "X_test['pred'] = y_pred"
   ]
  },
  {
   "cell_type": "code",
   "execution_count": 51,
   "metadata": {},
   "outputs": [],
   "source": [
    "pred_score_list.append(y_pred)"
   ]
  },
  {
   "cell_type": "code",
   "execution_count": 52,
   "metadata": {},
   "outputs": [
    {
     "data": {
      "text/plain": [
       "92.25796697892422"
      ]
     },
     "execution_count": 52,
     "metadata": {},
     "output_type": "execute_result"
    }
   ],
   "source": [
    "techjam_score(X_test['pred'],y_test['income'])"
   ]
  },
  {
   "cell_type": "code",
   "execution_count": 53,
   "metadata": {},
   "outputs": [],
   "source": [
    "#### Clip Target"
   ]
  },
  {
   "cell_type": "code",
   "execution_count": 54,
   "metadata": {},
   "outputs": [],
   "source": [
    "X_train, X_test, y_train, y_test = train_test_split(X, (y), test_size=0.2, random_state=42)\n",
    "\n",
    "X_train, X_val, y_train, y_val = train_test_split(X_train, y_train.clip(upper=np.percentile(y_train,95),lower=np.percentile(y_train,5)), test_size=0.2, random_state=42)"
   ]
  },
  {
   "cell_type": "code",
   "execution_count": 55,
   "metadata": {},
   "outputs": [],
   "source": [
    "lgb_train = lgb.Dataset(X_train,y_train,free_raw_data=False)\n",
    "lgb_eval = lgb.Dataset(X_val, y_val,free_raw_data=False, reference=lgb_train)"
   ]
  },
  {
   "cell_type": "code",
   "execution_count": 56,
   "metadata": {},
   "outputs": [
    {
     "name": "stdout",
     "output_type": "stream",
     "text": [
      "Training until validation scores don't improve for 50 rounds\n",
      "[50]\tvalid_0's mape: 0.388839\tvalid_0's techjam_score: 89.9901\n",
      "[100]\tvalid_0's mape: 0.374004\tvalid_0's techjam_score: 90.9528\n",
      "[150]\tvalid_0's mape: 0.365797\tvalid_0's techjam_score: 91.5199\n",
      "[200]\tvalid_0's mape: 0.360518\tvalid_0's techjam_score: 91.912\n",
      "[250]\tvalid_0's mape: 0.35778\tvalid_0's techjam_score: 92.137\n",
      "[300]\tvalid_0's mape: 0.355983\tvalid_0's techjam_score: 92.298\n",
      "[350]\tvalid_0's mape: 0.354993\tvalid_0's techjam_score: 92.3956\n",
      "[400]\tvalid_0's mape: 0.354261\tvalid_0's techjam_score: 92.4796\n",
      "[450]\tvalid_0's mape: 0.353681\tvalid_0's techjam_score: 92.5435\n",
      "[500]\tvalid_0's mape: 0.353355\tvalid_0's techjam_score: 92.5975\n",
      "[550]\tvalid_0's mape: 0.35319\tvalid_0's techjam_score: 92.6385\n",
      "Early stopping, best iteration is:\n",
      "[541]\tvalid_0's mape: 0.353158\tvalid_0's techjam_score: 92.6344\n"
     ]
    }
   ],
   "source": [
    "gbm = lgb.train(model_params,\n",
    "                lgb_train,\n",
    "                num_boost_round=1000,\n",
    "                valid_sets=lgb_eval,\n",
    "                feval= techjam_feval_no_log,\n",
    "                verbose_eval=50,\n",
    "                early_stopping_rounds=50)"
   ]
  },
  {
   "cell_type": "code",
   "execution_count": 57,
   "metadata": {},
   "outputs": [],
   "source": [
    "y_pred = gbm.predict(X_test, num_iteration=gbm.best_iteration)"
   ]
  },
  {
   "cell_type": "code",
   "execution_count": 58,
   "metadata": {},
   "outputs": [
    {
     "name": "stderr",
     "output_type": "stream",
     "text": [
      "C:\\Users\\phiratath.n\\AppData\\Local\\Continuum\\anaconda3\\lib\\site-packages\\ipykernel_launcher.py:1: SettingWithCopyWarning: \n",
      "A value is trying to be set on a copy of a slice from a DataFrame.\n",
      "Try using .loc[row_indexer,col_indexer] = value instead\n",
      "\n",
      "See the caveats in the documentation: http://pandas.pydata.org/pandas-docs/stable/indexing.html#indexing-view-versus-copy\n",
      "  \"\"\"Entry point for launching an IPython kernel.\n"
     ]
    }
   ],
   "source": [
    "X_test['pred'] = y_pred"
   ]
  },
  {
   "cell_type": "code",
   "execution_count": 59,
   "metadata": {},
   "outputs": [
    {
     "data": {
      "text/plain": [
       "91.56762967765408"
      ]
     },
     "execution_count": 59,
     "metadata": {},
     "output_type": "execute_result"
    }
   ],
   "source": [
    "techjam_score(X_test['pred'],y_test['income'])"
   ]
  },
  {
   "cell_type": "code",
   "execution_count": 60,
   "metadata": {},
   "outputs": [],
   "source": [
    "pred_score_list.append(y_pred)"
   ]
  },
  {
   "cell_type": "markdown",
   "metadata": {},
   "source": [
    "# Predict Distribution "
   ]
  },
  {
   "cell_type": "code",
   "execution_count": 61,
   "metadata": {},
   "outputs": [],
   "source": [
    "bin_df  = pd.DataFrame(y_test)\n",
    "for i in range(5):\n",
    "    bin_df.loc[(bin_df['income'] > 20000*i)&(bin_df['income'] <= 20000*(i+1)),'bin']=i\n",
    "    if i==4:\n",
    "        bin_df.loc[(bin_df['income'] > 100000),'bin']=i"
   ]
  },
  {
   "cell_type": "code",
   "execution_count": 62,
   "metadata": {},
   "outputs": [
    {
     "name": "stderr",
     "output_type": "stream",
     "text": [
      "C:\\Users\\phiratath.n\\AppData\\Local\\Continuum\\anaconda3\\lib\\site-packages\\scipy\\stats\\stats.py:1713: FutureWarning: Using a non-tuple sequence for multidimensional indexing is deprecated; use `arr[tuple(seq)]` instead of `arr[seq]`. In the future this will be interpreted as an array index, `arr[np.array(seq)]`, which will result either in an error or a different result.\n",
      "  return np.add.reduce(sorted[indexer] * weights, axis=axis) / sumval\n"
     ]
    },
    {
     "data": {
      "text/plain": [
       "<matplotlib.legend.Legend at 0x19e3a9f6ba8>"
      ]
     },
     "execution_count": 62,
     "metadata": {},
     "output_type": "execute_result"
    },
    {
     "data": {
      "image/png": "[encoded data removed]",
      "text/plain": [
       "<Figure size 432x288 with 1 Axes>"
      ]
     },
     "metadata": {},
     "output_type": "display_data"
    }
   ],
   "source": [
    "ax = sns.kdeplot(pred_score_list[0], label='loged_income')\n",
    "ax = sns.kdeplot(pred_score_list[1], label='income')\n",
    "ax = sns.kdeplot(pred_score_list[-1], label='clipped_income')\n",
    "ax = sns.kdeplot(pred_score_list[2], label='quantile_income')\n",
    "ax.set(xlabel='income', ylabel='density')\n",
    "plt.legend()"
   ]
  },
  {
   "cell_type": "code",
   "execution_count": 63,
   "metadata": {},
   "outputs": [],
   "source": [
    "bin_df['loged_income']=pred_score_list[0]\n",
    "bin_df['raw_income']=pred_score_list[1]\n",
    "bin_df['clipped_income']=pred_score_list[3]\n",
    "bin_df['quantile_income']=pred_score_list[2]"
   ]
  },
  {
   "cell_type": "code",
   "execution_count": 64,
   "metadata": {},
   "outputs": [
    {
     "data": {
      "text/html": [
       "<div>\n",
       "<style scoped>\n",
       "    .dataframe tbody tr th:only-of-type {\n",
       "        vertical-align: middle;\n",
       "    }\n",
       "\n",
       "    .dataframe tbody tr th {\n",
       "        vertical-align: top;\n",
       "    }\n",
       "\n",
       "    .dataframe thead th {\n",
       "        text-align: right;\n",
       "    }\n",
       "</style>\n",
       "<table border=\"1\" class=\"dataframe\">\n",
       "  <thead>\n",
       "    <tr style=\"text-align: right;\">\n",
       "      <th></th>\n",
       "      <th>income</th>\n",
       "      <th>bin</th>\n",
       "      <th>loged_income</th>\n",
       "      <th>raw_income</th>\n",
       "      <th>clipped_income</th>\n",
       "      <th>quantile_income</th>\n",
       "    </tr>\n",
       "    <tr>\n",
       "      <th>id</th>\n",
       "      <th></th>\n",
       "      <th></th>\n",
       "      <th></th>\n",
       "      <th></th>\n",
       "      <th></th>\n",
       "      <th></th>\n",
       "    </tr>\n",
       "  </thead>\n",
       "  <tbody>\n",
       "    <tr>\n",
       "      <th>33554</th>\n",
       "      <td>72000.0</td>\n",
       "      <td>3.0</td>\n",
       "      <td>55448.567644</td>\n",
       "      <td>40143.628536</td>\n",
       "      <td>41184.417616</td>\n",
       "      <td>59000.0</td>\n",
       "    </tr>\n",
       "    <tr>\n",
       "      <th>9428</th>\n",
       "      <td>53000.0</td>\n",
       "      <td>2.0</td>\n",
       "      <td>25288.602301</td>\n",
       "      <td>17957.481471</td>\n",
       "      <td>18874.882382</td>\n",
       "      <td>27000.0</td>\n",
       "    </tr>\n",
       "    <tr>\n",
       "      <th>200</th>\n",
       "      <td>19000.0</td>\n",
       "      <td>0.0</td>\n",
       "      <td>22051.008125</td>\n",
       "      <td>18370.912176</td>\n",
       "      <td>19632.892009</td>\n",
       "      <td>22000.0</td>\n",
       "    </tr>\n",
       "    <tr>\n",
       "      <th>12448</th>\n",
       "      <td>22000.0</td>\n",
       "      <td>1.0</td>\n",
       "      <td>25310.924489</td>\n",
       "      <td>19948.987101</td>\n",
       "      <td>19991.518412</td>\n",
       "      <td>26000.0</td>\n",
       "    </tr>\n",
       "    <tr>\n",
       "      <th>39490</th>\n",
       "      <td>24000.0</td>\n",
       "      <td>1.0</td>\n",
       "      <td>21939.594956</td>\n",
       "      <td>17826.383686</td>\n",
       "      <td>17827.518859</td>\n",
       "      <td>22000.0</td>\n",
       "    </tr>\n",
       "  </tbody>\n",
       "</table>\n",
       "</div>"
      ],
      "text/plain": [
       "        income  bin  loged_income    raw_income  clipped_income  \\\n",
       "id                                                                \n",
       "33554  72000.0  3.0  55448.567644  40143.628536    41184.417616   \n",
       "9428   53000.0  2.0  25288.602301  17957.481471    18874.882382   \n",
       "200    19000.0  0.0  22051.008125  18370.912176    19632.892009   \n",
       "12448  22000.0  1.0  25310.924489  19948.987101    19991.518412   \n",
       "39490  24000.0  1.0  21939.594956  17826.383686    17827.518859   \n",
       "\n",
       "       quantile_income  \n",
       "id                      \n",
       "33554          59000.0  \n",
       "9428           27000.0  \n",
       "200            22000.0  \n",
       "12448          26000.0  \n",
       "39490          22000.0  "
      ]
     },
     "execution_count": 64,
     "metadata": {},
     "output_type": "execute_result"
    }
   ],
   "source": [
    "bin_df.head()"
   ]
  },
  {
   "cell_type": "code",
   "execution_count": 65,
   "metadata": {},
   "outputs": [],
   "source": [
    "y_test =bin_df['income'].values"
   ]
  },
  {
   "cell_type": "code",
   "execution_count": 66,
   "metadata": {},
   "outputs": [],
   "source": [
    "score_summary = pd.DataFrame(bin_df.apply(lambda x:techjam_score(x,y_test)),columns=['techjam_score'])"
   ]
  },
  {
   "cell_type": "code",
   "execution_count": 67,
   "metadata": {},
   "outputs": [
    {
     "data": {
      "text/html": [
       "<div>\n",
       "<style scoped>\n",
       "    .dataframe tbody tr th:only-of-type {\n",
       "        vertical-align: middle;\n",
       "    }\n",
       "\n",
       "    .dataframe tbody tr th {\n",
       "        vertical-align: top;\n",
       "    }\n",
       "\n",
       "    .dataframe thead th {\n",
       "        text-align: right;\n",
       "    }\n",
       "</style>\n",
       "<table border=\"1\" class=\"dataframe\">\n",
       "  <thead>\n",
       "    <tr style=\"text-align: right;\">\n",
       "      <th></th>\n",
       "      <th>techjam_score</th>\n",
       "    </tr>\n",
       "  </thead>\n",
       "  <tbody>\n",
       "    <tr>\n",
       "      <th>loged_income</th>\n",
       "      <td>92.234114</td>\n",
       "    </tr>\n",
       "    <tr>\n",
       "      <th>raw_income</th>\n",
       "      <td>91.494877</td>\n",
       "    </tr>\n",
       "    <tr>\n",
       "      <th>clipped_income</th>\n",
       "      <td>91.567630</td>\n",
       "    </tr>\n",
       "    <tr>\n",
       "      <th>quantile_income</th>\n",
       "      <td>92.257967</td>\n",
       "    </tr>\n",
       "  </tbody>\n",
       "</table>\n",
       "</div>"
      ],
      "text/plain": [
       "                 techjam_score\n",
       "loged_income         92.234114\n",
       "raw_income           91.494877\n",
       "clipped_income       91.567630\n",
       "quantile_income      92.257967"
      ]
     },
     "execution_count": 67,
     "metadata": {},
     "output_type": "execute_result"
    }
   ],
   "source": [
    "score_summary.iloc[2:,:]"
   ]
  },
  {
   "cell_type": "code",
   "execution_count": 68,
   "metadata": {},
   "outputs": [],
   "source": [
    "df_log=pd.DataFrame(bin_df.groupby('bin').apply(lambda x: techjam_score(x['loged_income'],x['income'])))\n",
    "df_raw=pd.DataFrame(bin_df.groupby('bin').apply(lambda x: techjam_score(x['raw_income'],x['income'])))\n",
    "df_clip=pd.DataFrame(bin_df.groupby('bin').apply(lambda x: techjam_score(x['clipped_income'],x['income'])))\n",
    "df_quantile=pd.DataFrame(bin_df.groupby('bin').apply(lambda x: techjam_score(x['quantile_income'],x['income'])))\n",
    "bin_summary = pd.concat([df_raw,df_clip,df_log,df_quantile],axis=1)"
   ]
  },
  {
   "cell_type": "code",
   "execution_count": 69,
   "metadata": {},
   "outputs": [],
   "source": [
    "bin_summary.columns = ['raw_income','clipped_income','loged_income','quantile_income']"
   ]
  },
  {
   "cell_type": "code",
   "execution_count": 70,
   "metadata": {},
   "outputs": [],
   "source": [
    "bin_summary['income bin'] = ['0-20,000','20,000-40,000','40,000-60,000','60,000-80,000','100,000+']"
   ]
  },
  {
   "cell_type": "code",
   "execution_count": 74,
   "metadata": {},
   "outputs": [
    {
     "data": {
      "text/html": [
       "<div>\n",
       "<style scoped>\n",
       "    .dataframe tbody tr th:only-of-type {\n",
       "        vertical-align: middle;\n",
       "    }\n",
       "\n",
       "    .dataframe tbody tr th {\n",
       "        vertical-align: top;\n",
       "    }\n",
       "\n",
       "    .dataframe thead th {\n",
       "        text-align: right;\n",
       "    }\n",
       "</style>\n",
       "<table border=\"1\" class=\"dataframe\">\n",
       "  <thead>\n",
       "    <tr style=\"text-align: right;\">\n",
       "      <th></th>\n",
       "      <th>raw_income</th>\n",
       "      <th>clipped_income</th>\n",
       "      <th>loged_income</th>\n",
       "      <th>quantile_income</th>\n",
       "    </tr>\n",
       "    <tr>\n",
       "      <th>income bin</th>\n",
       "      <th></th>\n",
       "      <th></th>\n",
       "      <th></th>\n",
       "      <th></th>\n",
       "    </tr>\n",
       "  </thead>\n",
       "  <tbody>\n",
       "    <tr>\n",
       "      <th>0-20,000</th>\n",
       "      <td>95.271712</td>\n",
       "      <td>95.145364</td>\n",
       "      <td>90.282893</td>\n",
       "      <td>90.905053</td>\n",
       "    </tr>\n",
       "    <tr>\n",
       "      <th>20,000-40,000</th>\n",
       "      <td>98.043812</td>\n",
       "      <td>98.078533</td>\n",
       "      <td>98.031724</td>\n",
       "      <td>98.107466</td>\n",
       "    </tr>\n",
       "    <tr>\n",
       "      <th>40,000-60,000</th>\n",
       "      <td>92.272313</td>\n",
       "      <td>92.315466</td>\n",
       "      <td>95.072244</td>\n",
       "      <td>94.757419</td>\n",
       "    </tr>\n",
       "    <tr>\n",
       "      <th>60,000-80,000</th>\n",
       "      <td>86.181076</td>\n",
       "      <td>86.330601</td>\n",
       "      <td>91.073788</td>\n",
       "      <td>90.538563</td>\n",
       "    </tr>\n",
       "    <tr>\n",
       "      <th>100,000+</th>\n",
       "      <td>66.043738</td>\n",
       "      <td>66.613439</td>\n",
       "      <td>75.682353</td>\n",
       "      <td>75.066621</td>\n",
       "    </tr>\n",
       "  </tbody>\n",
       "</table>\n",
       "</div>"
      ],
      "text/plain": [
       "               raw_income  clipped_income  loged_income  quantile_income\n",
       "income bin                                                              \n",
       "0-20,000        95.271712       95.145364     90.282893        90.905053\n",
       "20,000-40,000   98.043812       98.078533     98.031724        98.107466\n",
       "40,000-60,000   92.272313       92.315466     95.072244        94.757419\n",
       "60,000-80,000   86.181076       86.330601     91.073788        90.538563\n",
       "100,000+        66.043738       66.613439     75.682353        75.066621"
      ]
     },
     "execution_count": 74,
     "metadata": {},
     "output_type": "execute_result"
    }
   ],
   "source": [
    "bin_summary"
   ]
  },
  {
   "cell_type": "code",
   "execution_count": 72,
   "metadata": {},
   "outputs": [
    {
     "data": {
      "text/plain": [
       "[Text(0,0,'0-20,000'),\n",
       " Text(0,0,'20,000-40,000'),\n",
       " Text(0,0,'40,000-60,000'),\n",
       " Text(0,0,'60,000-80,000'),\n",
       " Text(0,0,'100,000+')]"
      ]
     },
     "execution_count": 72,
     "metadata": {},
     "output_type": "execute_result"
    },
    {
     "data": {
      "image/png": "[encoded data removed]",
      "text/plain": [
       "<Figure size 864x648 with 1 Axes>"
      ]
     },
     "metadata": {},
     "output_type": "display_data"
    }
   ],
   "source": [
    "fig_dims = (12, 9)\n",
    "data = bin_summary.melt('income bin', var_name='group_income', value_name='techjam_score')\n",
    "fig, ax = plt.subplots(figsize=fig_dims)\n",
    "ax=sns.barplot(x='income bin', y='techjam_score', hue='group_income', data=data)\n",
    "\n",
    "ax.set_xticklabels(ax.get_xticklabels())"
   ]
  },
  {
   "cell_type": "code",
   "execution_count": null,
   "metadata": {},
   "outputs": [],
   "source": []
  }
 ],
 "metadata": {
  "kernelspec": {
   "display_name": "Python 3",
   "language": "python",
   "name": "python3"
  },
  "language_info": {
   "codemirror_mode": {
    "name": "ipython",
    "version": 3
   },
   "file_extension": ".py",
   "mimetype": "text/x-python",
   "name": "python",
   "nbconvert_exporter": "python",
   "pygments_lexer": "ipython3",
   "version": "3.6.5"
  }
 },
 "nbformat": 4,
 "nbformat_minor": 1
}
