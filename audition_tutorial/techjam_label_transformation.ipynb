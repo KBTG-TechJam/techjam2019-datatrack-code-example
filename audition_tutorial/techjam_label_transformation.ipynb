{
 "cells": [
  {
   "cell_type": "code",
   "execution_count": 100,
   "metadata": {},
   "outputs": [],
   "source": [
    "import os\n",
    "import datetime\n",
    "import gc\n",
    "\n",
    "import numpy as np\n",
    "import pandas as pd\n",
    "import matplotlib.pyplot as plt\n",
    "import lightgbm as lgb\n",
    "import numpy as np\n",
    "import seaborn as sns\n",
    "from scipy import stats\n",
    "\n",
    "from sklearn.preprocessing import StandardScaler\n",
    "from sklearn.model_selection import train_test_split\n",
    "from sklearn.preprocessing import QuantileTransformer\n",
    "\n",
    "\n",
    "%matplotlib inline"
   ]
  },
  {
   "cell_type": "code",
   "execution_count": 101,
   "metadata": {},
   "outputs": [],
   "source": [
    "def techjam_score(y_pred, y_true):\n",
    "    y_pred = np.array(y_pred)\n",
    "    y_true = np.array(y_true)\n",
    "    \n",
    "    return 100 - 100 * np.mean((y_pred-y_true) ** 2 / (np.minimum(2*y_true, y_pred) + y_true)**2)"
   ]
  },
  {
   "cell_type": "code",
   "execution_count": 102,
   "metadata": {},
   "outputs": [],
   "source": [
    "\n",
    "# Edit data directory here\n",
    "DATA_DIR = \".\\\\techjam\"\n",
    "\n",
    "\n",
    "def percentile(n):\n",
    "    def percentile_(x):\n",
    "        return np.percentile(x, n)\n",
    "    percentile_.__name__ = 'percentile_%s' % n\n",
    "    return percentile_\n",
    "\n",
    "def get_prep_data(DATA_DIR):\n",
    "    # Reading Files\n",
    "    cc = pd.read_csv(os.path.join(DATA_DIR,'cc.csv'),parse_dates=['pos_dt'])\n",
    "    demo = pd.read_csv(os.path.join(DATA_DIR,'demographics.csv'))\n",
    "    kplus = pd.read_csv(os.path.join(DATA_DIR,'kplus.csv'),parse_dates=['sunday'])\n",
    "\n",
    "    train = pd.read_csv(os.path.join(DATA_DIR,'train.csv'))\n",
    "    test = pd.read_csv(os.path.join(DATA_DIR,'test.csv'))\n",
    "\n",
    "    # Set-up\n",
    "    cc_mapper = demo[['id','cc_no']].copy()\n",
    "    demo = demo.drop('cc_no',axis=1).drop_duplicates().reset_index(drop=True)\n",
    "    label = pd.concat([train,test],axis=0,ignore_index=True)\n",
    "    demo = demo.merge(label, on='id')\n",
    "    demo['ocp_cd'] = demo['ocp_cd'].fillna(0).astype(int)\n",
    "    demo.set_index('id',inplace=True)\n",
    "    kplus.set_index('id',inplace=True)\n",
    "    joined_cc = cc.merge(cc_mapper, on='cc_no', how='inner').drop('cc_no', axis=1)\n",
    "\n",
    "    kplus['month'] = kplus['sunday'].dt.month\n",
    "    kplus['month'] = 'month'+ kplus['month'].astype(str)\n",
    "    joined_cc['month'] = joined_cc.pos_dt.dt.month\n",
    "    joined_cc['month'] = 'month'+ joined_cc['month'].astype(str)\n",
    "\n",
    "    bank_holidays = ['2018-01-01','2018-01-02','2018-03-01','2018-04-06','2018-04-13',\n",
    "                    '2018-04-14','2018-04-15','2018-04-16','2018-05-01','2018-05-29']\n",
    "    joined_cc['is_holiday'] = joined_cc['pos_dt'].isin([datetime.datetime.strptime(i, '%Y-%m-%d') for i in bank_holidays]).astype(int)\n",
    "    joined_cc['is_weekend'] = joined_cc['pos_dt'].dt.weekday.isin([0,6]).astype(int)\n",
    "    joined_cc['is_holiday'] = 'holiday'+joined_cc['is_holiday'].astype(str)\n",
    "    joined_cc['is_weekend'] = 'weekend'+joined_cc['is_weekend'].astype(str)\n",
    "    joined_cc['quarter'] = 'q'+((joined_cc['pos_dt'].dt.month>=4)+1).astype(str)\n",
    "\n",
    "\n",
    "    # Adding log\n",
    "    #demo['income'] = demo['income'].apply(np.log1p)\n",
    "\n",
    "\n",
    "\n",
    "\n",
    "    # Target Encoding\n",
    "    demo = demo.reset_index()\n",
    "    demo['cc_cnt'] = demo['id'].map(cc_mapper.groupby('id').cc_no.count())\n",
    "    demo['has_kp'] = demo['id'].isin(kplus.index).astype(int)\n",
    "\n",
    "    # Crossing categorical features as another feature [374 / 336]\n",
    "    demo['age_gnd'] = demo['gender'].astype(str)+demo['age'].astype(str)\n",
    "    demo['gnd_ocp'] = demo['gender'].astype(str)+demo['ocp_cd'].astype(str)\n",
    "    demo['age_ocp'] = demo['age'].astype(str)+demo['ocp_cd'].astype(str)\n",
    "\n",
    "    # Left age out of categorical features since it's ordinal\n",
    "    categorical_features = ['gender','ocp_cd','age_gnd','gnd_ocp','age_ocp']\n",
    "\n",
    "    # Target Encoding, code modified from [374]\n",
    "    for feature in categorical_features + ['age']:\n",
    "        means_per_group = demo[demo['income']>0].groupby(feature)['income'].mean()\n",
    "        demo[feature+'_mean'] = demo[feature].map(means_per_group)\n",
    "\n",
    "        count_per_group = demo[demo['income']>0].groupby(feature)['income'].count()\n",
    "        demo[feature+'_count'] = demo[feature].map(count_per_group)\n",
    "        \n",
    "    demo.set_index('id',inplace=True)\n",
    "    \n",
    "    # Preping Training data\n",
    "    \n",
    "    train = demo.copy()\n",
    "    \n",
    "    # Normal Total Groupby\n",
    "    kplus_tot = kplus.groupby('id').agg({'kp_txn_count':'sum','kp_txn_amt':'sum'}).copy()\n",
    "    kplus_mm_tot = kplus.groupby(['id','month']).agg({'kp_txn_count':'sum','kp_txn_amt':'sum'}).unstack(level=1).copy()\n",
    "    kplus_mm_tot.columns = ['_'.join([str(c) for c in lst]) for lst in kplus_mm_tot.columns]\n",
    "\n",
    "    # CreditCard Total Groupby\n",
    "    cc_tot = joined_cc.groupby('id').agg({'cc_txn_amt':['count','sum']}).copy()\n",
    "    cc_tot.columns = ['_'.join(i) for i in cc_tot.columns]\n",
    "\n",
    "    # CreditCard Monthly Groupby\n",
    "    combined_cc = pd.pivot_table(joined_cc, index= 'id', columns= 'month', values= 'cc_txn_amt', aggfunc= [np.mean, min, max, np.sum, 'count', np.var, percentile(10), percentile(90)])\n",
    "    combined_cc.columns = ['cc_'+'_'.join([str(c) for c in lst]) for lst in combined_cc.columns]\n",
    "\n",
    "\n",
    "    # CreditCard Pompus Features\n",
    "    combined_cc_holiday = pd.pivot_table(joined_cc, index= 'id', columns= 'is_holiday', values= 'cc_txn_amt', aggfunc= [np.mean, min, max, np.sum, 'count', np.var, percentile(10), percentile(90)])\n",
    "    combined_cc_weekend = pd.pivot_table(joined_cc, index= 'id', columns= 'is_weekend', values= 'cc_txn_amt', aggfunc= [np.mean, min, max, np.sum, 'count', np.var, percentile(10), percentile(90)])\n",
    "    combined_cc_quarter = pd.pivot_table(joined_cc, index= 'id', columns= 'quarter', values= 'cc_txn_amt', aggfunc= [np.mean, min, max, np.sum, 'count', np.var, percentile(10), percentile(90)])\n",
    "    combined_cc_holiday.columns = ['cc_'+'_'.join([str(c) for c in lst]) for lst in combined_cc_holiday.columns]\n",
    "    combined_cc_weekend.columns = ['cc_'+'_'.join([str(c) for c in lst]) for lst in combined_cc_weekend.columns]\n",
    "    combined_cc_quarter.columns = ['cc_'+'_'.join([str(c) for c in lst]) for lst in combined_cc_quarter.columns]\n",
    "\n",
    "    # Joining all together\n",
    "    train = train.join(kplus_tot).join(kplus_mm_tot).join(cc_tot).join(combined_cc).join(combined_cc_holiday).join(combined_cc_weekend).join(combined_cc_quarter).fillna(0)\n",
    "\n",
    "    # Quick Normalization\n",
    "    #for col in [ i for i in train.columns if i not in ['id','gender','ocp_cd','age','income']]:\n",
    "    #    train[col] = StandardScaler().fit_transform(train[col].values.reshape(-1, 1))\n",
    "    #    train[col] = train[col].fillna(0)\n",
    "    #    if 'amt' in col:\n",
    "    #        train[col] = train[col].apply(np.log1p)\n",
    "\n",
    "    X_train = train[train['income']>0].drop('income',axis=1).copy()\n",
    "    y_train = pd.DataFrame(train[train['income']>0]['income']).copy()\n",
    "    X_test = train[train['income']<=0].drop('income',axis=1).copy()\n",
    "\n",
    "    return X_train, y_train, X_test"
   ]
  },
  {
   "cell_type": "code",
   "execution_count": 103,
   "metadata": {},
   "outputs": [
    {
     "name": "stderr",
     "output_type": "stream",
     "text": [
      "C:\\Users\\phiratath.n\\AppData\\Local\\Continuum\\anaconda3\\lib\\site-packages\\ipykernel_launcher.py:24: FutureWarning: Sorting because non-concatenation axis is not aligned. A future version\n",
      "of pandas will change to not sort by default.\n",
      "\n",
      "To accept the future behavior, pass 'sort=False'.\n",
      "\n",
      "To retain the current behavior and silence the warning, pass 'sort=True'.\n",
      "\n"
     ]
    }
   ],
   "source": [
    "X, y, test_df = get_prep_data(DATA_DIR)"
   ]
  },
  {
   "cell_type": "code",
   "execution_count": 104,
   "metadata": {},
   "outputs": [],
   "source": [
    "#### Add categorical feature\n",
    "categorical_feats = ['gender','ocp_cd','age_gnd','gnd_ocp','age_ocp']\n",
    "X[categorical_feats] = X[categorical_feats].astype('category')\n",
    "test_df[categorical_feats] = test_df[categorical_feats].astype('category')"
   ]
  },
  {
   "cell_type": "code",
   "execution_count": 105,
   "metadata": {},
   "outputs": [],
   "source": [
    "X.reset_index(drop=True,inplace=True)\n",
    "test_df.reset_index(inplace=True)"
   ]
  },
  {
   "cell_type": "markdown",
   "metadata": {},
   "source": [
    "# Test Train Split"
   ]
  },
  {
   "cell_type": "code",
   "execution_count": 106,
   "metadata": {},
   "outputs": [],
   "source": [
    "### Log Transformation\n",
    "y_log = np.log(y)"
   ]
  },
  {
   "cell_type": "code",
   "execution_count": 107,
   "metadata": {},
   "outputs": [],
   "source": [
    "X_train, X_test, y_train, y_test = train_test_split(X, y_log, test_size=0.2, random_state=42)\n",
    "\n",
    "X_train, X_val, y_train, y_val = train_test_split(X_train, y_train, test_size=0.2, random_state=42)"
   ]
  },
  {
   "cell_type": "markdown",
   "metadata": {},
   "source": [
    "# Model "
   ]
  },
  {
   "cell_type": "code",
   "execution_count": 108,
   "metadata": {},
   "outputs": [],
   "source": [
    "lgb_train = lgb.Dataset(X_train, y_train)\n",
    "lgb_eval = lgb.Dataset(X_val, y_val, reference=lgb_train)"
   ]
  },
  {
   "cell_type": "code",
   "execution_count": 109,
   "metadata": {},
   "outputs": [],
   "source": [
    "##### Log Transformation "
   ]
  },
  {
   "cell_type": "code",
   "execution_count": 110,
   "metadata": {},
   "outputs": [],
   "source": [
    "def techjam_feval(y_pred, dtrain):\n",
    "    y_true = dtrain.get_label()\n",
    "    return 'techjam_score', techjam_score(np.exp(y_pred), np.exp(y_true)), True"
   ]
  },
  {
   "cell_type": "code",
   "execution_count": 111,
   "metadata": {},
   "outputs": [],
   "source": [
    "pred_score_list=[]"
   ]
  },
  {
   "cell_type": "code",
   "execution_count": 112,
   "metadata": {},
   "outputs": [],
   "source": [
    "\n",
    "model_params = {\n",
    "    \"objective\": \"mape\",\n",
    "    'boosting_type': 'gbdt',\n",
    "    'metric': {'mape'},\n",
    "    'num_leaves': 511,\n",
    "    'learning_rate': 0.01,\n",
    "    'feature_fraction': 0.7,\n",
    "    'bagging_fraction': 0.8,\n",
    "    'bagging_freq': 5,\n",
    "    'verbose': 0\n",
    "}"
   ]
  },
  {
   "cell_type": "code",
   "execution_count": 113,
   "metadata": {},
   "outputs": [
    {
     "name": "stdout",
     "output_type": "stream",
     "text": [
      "Training until validation scores don't improve for 50 rounds\n",
      "[50]\tvalid_0's mape: 0.045457\tvalid_0's techjam_score: 91.3676\n",
      "[100]\tvalid_0's mape: 0.0422492\tvalid_0's techjam_score: 92.1451\n",
      "[150]\tvalid_0's mape: 0.0407639\tvalid_0's techjam_score: 92.3957\n",
      "[200]\tvalid_0's mape: 0.0400265\tvalid_0's techjam_score: 92.4559\n",
      "[250]\tvalid_0's mape: 0.0396518\tvalid_0's techjam_score: 92.4386\n",
      "Early stopping, best iteration is:\n",
      "[209]\tvalid_0's mape: 0.0399378\tvalid_0's techjam_score: 92.457\n"
     ]
    }
   ],
   "source": [
    "gbm = lgb.train(model_params,\n",
    "                lgb_train,\n",
    "                num_boost_round=1000,\n",
    "                valid_sets=lgb_eval,\n",
    "                feval= techjam_feval,\n",
    "                verbose_eval=50,\n",
    "                early_stopping_rounds=50)"
   ]
  },
  {
   "cell_type": "code",
   "execution_count": 114,
   "metadata": {},
   "outputs": [],
   "source": [
    "y_pred = gbm.predict(X_test, num_iteration=gbm.best_iteration)"
   ]
  },
  {
   "cell_type": "code",
   "execution_count": 115,
   "metadata": {},
   "outputs": [
    {
     "name": "stderr",
     "output_type": "stream",
     "text": [
      "C:\\Users\\phiratath.n\\AppData\\Local\\Continuum\\anaconda3\\lib\\site-packages\\ipykernel_launcher.py:1: SettingWithCopyWarning: \n",
      "A value is trying to be set on a copy of a slice from a DataFrame.\n",
      "Try using .loc[row_indexer,col_indexer] = value instead\n",
      "\n",
      "See the caveats in the documentation: http://pandas.pydata.org/pandas-docs/stable/indexing.html#indexing-view-versus-copy\n",
      "  \"\"\"Entry point for launching an IPython kernel.\n"
     ]
    }
   ],
   "source": [
    "X_test['pred'] = np.exp(y_pred)"
   ]
  },
  {
   "cell_type": "code",
   "execution_count": 116,
   "metadata": {},
   "outputs": [],
   "source": [
    "pred_score_list.append(np.exp(y_pred))"
   ]
  },
  {
   "cell_type": "code",
   "execution_count": 117,
   "metadata": {},
   "outputs": [
    {
     "data": {
      "text/plain": [
       "92.23996253425965"
      ]
     },
     "execution_count": 117,
     "metadata": {},
     "output_type": "execute_result"
    }
   ],
   "source": [
    "techjam_score(X_test['pred'],np.exp(y_test['income']))"
   ]
  },
  {
   "cell_type": "code",
   "execution_count": 118,
   "metadata": {},
   "outputs": [],
   "source": [
    "#### Raw Income"
   ]
  },
  {
   "cell_type": "code",
   "execution_count": 119,
   "metadata": {},
   "outputs": [],
   "source": [
    "def techjam_feval_no_log(y_pred, dtrain):\n",
    "    y_true = dtrain.get_label()\n",
    "    return 'techjam_score', techjam_score((y_pred), (y_true)), True"
   ]
  },
  {
   "cell_type": "code",
   "execution_count": 120,
   "metadata": {},
   "outputs": [],
   "source": [
    "X_train, X_test, y_train, y_test = train_test_split(X, y, test_size=0.2, random_state=42)\n",
    "\n",
    "X_train, X_val, y_train, y_val = train_test_split(X_train, (y_train), test_size=0.2, random_state=42)"
   ]
  },
  {
   "cell_type": "code",
   "execution_count": 121,
   "metadata": {},
   "outputs": [],
   "source": [
    "lgb_train = lgb.Dataset(X_train, y_train,free_raw_data=False)\n",
    "lgb_eval = lgb.Dataset(X_val, y_val,free_raw_data=False, reference=lgb_train)"
   ]
  },
  {
   "cell_type": "code",
   "execution_count": 122,
   "metadata": {},
   "outputs": [
    {
     "name": "stdout",
     "output_type": "stream",
     "text": [
      "Training until validation scores don't improve for 50 rounds\n",
      "[50]\tvalid_0's mape: 0.40293\tvalid_0's techjam_score: 88.7497\n",
      "[100]\tvalid_0's mape: 0.387793\tvalid_0's techjam_score: 89.7825\n",
      "[150]\tvalid_0's mape: 0.379607\tvalid_0's techjam_score: 90.3788\n",
      "[200]\tvalid_0's mape: 0.374838\tvalid_0's techjam_score: 90.7764\n",
      "[250]\tvalid_0's mape: 0.372009\tvalid_0's techjam_score: 91.0327\n",
      "[300]\tvalid_0's mape: 0.370306\tvalid_0's techjam_score: 91.2102\n",
      "[350]\tvalid_0's mape: 0.369369\tvalid_0's techjam_score: 91.3181\n",
      "[400]\tvalid_0's mape: 0.368769\tvalid_0's techjam_score: 91.3916\n",
      "[450]\tvalid_0's mape: 0.368454\tvalid_0's techjam_score: 91.4476\n",
      "[500]\tvalid_0's mape: 0.368123\tvalid_0's techjam_score: 91.5024\n",
      "[550]\tvalid_0's mape: 0.368014\tvalid_0's techjam_score: 91.5448\n",
      "[600]\tvalid_0's mape: 0.367902\tvalid_0's techjam_score: 91.5817\n",
      "[650]\tvalid_0's mape: 0.36785\tvalid_0's techjam_score: 91.6146\n",
      "[700]\tvalid_0's mape: 0.367867\tvalid_0's techjam_score: 91.642\n",
      "Early stopping, best iteration is:\n",
      "[664]\tvalid_0's mape: 0.3678\tvalid_0's techjam_score: 91.6234\n"
     ]
    }
   ],
   "source": [
    "gbm = lgb.train(model_params,\n",
    "                lgb_train,\n",
    "                num_boost_round=1000,\n",
    "                valid_sets=lgb_eval,\n",
    "                feval= techjam_feval_no_log,\n",
    "                verbose_eval=50,\n",
    "                early_stopping_rounds=50)"
   ]
  },
  {
   "cell_type": "code",
   "execution_count": 123,
   "metadata": {},
   "outputs": [],
   "source": [
    "y_pred = gbm.predict(X_test, num_iteration=gbm.best_iteration)\n",
    "\n"
   ]
  },
  {
   "cell_type": "code",
   "execution_count": 124,
   "metadata": {},
   "outputs": [
    {
     "name": "stderr",
     "output_type": "stream",
     "text": [
      "C:\\Users\\phiratath.n\\AppData\\Local\\Continuum\\anaconda3\\lib\\site-packages\\ipykernel_launcher.py:1: SettingWithCopyWarning: \n",
      "A value is trying to be set on a copy of a slice from a DataFrame.\n",
      "Try using .loc[row_indexer,col_indexer] = value instead\n",
      "\n",
      "See the caveats in the documentation: http://pandas.pydata.org/pandas-docs/stable/indexing.html#indexing-view-versus-copy\n",
      "  \"\"\"Entry point for launching an IPython kernel.\n"
     ]
    }
   ],
   "source": [
    "X_test['pred'] = y_pred"
   ]
  },
  {
   "cell_type": "code",
   "execution_count": 125,
   "metadata": {},
   "outputs": [],
   "source": [
    "pred_score_list.append(y_pred)"
   ]
  },
  {
   "cell_type": "code",
   "execution_count": 126,
   "metadata": {},
   "outputs": [
    {
     "data": {
      "text/plain": [
       "91.49352820252352"
      ]
     },
     "execution_count": 126,
     "metadata": {},
     "output_type": "execute_result"
    }
   ],
   "source": [
    "techjam_score(X_test['pred'],y_test['income'])"
   ]
  },
  {
   "cell_type": "code",
   "execution_count": 127,
   "metadata": {},
   "outputs": [],
   "source": [
    "#### Quantile Transformer"
   ]
  },
  {
   "cell_type": "code",
   "execution_count": 128,
   "metadata": {},
   "outputs": [],
   "source": [
    "from sklearn.preprocessing import QuantileTransformer"
   ]
  },
  {
   "cell_type": "code",
   "execution_count": 129,
   "metadata": {},
   "outputs": [],
   "source": [
    "def techjam_feval_quantile(y_pred, dtrain):\n",
    "    y_true = dtrain.get_label()\n",
    "    y_pred = qt.inverse_transform(y_pred.reshape((len(y_pred), 1)))[:,0]\n",
    "    y_true = qt.inverse_transform(y_true.reshape((len(y_true), 1)))[:,0]\n",
    "    return 'techjam_score', techjam_score(y_pred, y_true), True"
   ]
  },
  {
   "cell_type": "code",
   "execution_count": 130,
   "metadata": {},
   "outputs": [],
   "source": [
    "#### Leak in Validate set"
   ]
  },
  {
   "cell_type": "code",
   "execution_count": 131,
   "metadata": {},
   "outputs": [],
   "source": [
    "qt = QuantileTransformer(n_quantiles=10000, output_distribution='uniform', random_state=42)\n",
    "#y_q = qt.fit_transform(y_train.values.reshape((len(y_q), 1)))[:,0]\n",
    "#y_val = qt.transform(y_val.values.reshape((len(y_val), 1)))[:,0]"
   ]
  },
  {
   "cell_type": "code",
   "execution_count": 132,
   "metadata": {},
   "outputs": [],
   "source": [
    "X_train, X_test, y_train, y_test = train_test_split(X, (y), test_size=0.2, random_state=42)\n",
    "y_q = qt.fit_transform(y_train.values.reshape((len(y_train), 1)))[:,0]\n",
    "\n",
    "X_train, X_val, y_train, y_val = train_test_split(X_train, (y_q), test_size=0.2, random_state=42)"
   ]
  },
  {
   "cell_type": "code",
   "execution_count": 133,
   "metadata": {},
   "outputs": [],
   "source": [
    "lgb_train = lgb.Dataset(X_train, y_train,free_raw_data=False)\n",
    "lgb_eval = lgb.Dataset(X_val, y_val,free_raw_data=False, reference=lgb_train)"
   ]
  },
  {
   "cell_type": "code",
   "execution_count": 134,
   "metadata": {},
   "outputs": [
    {
     "name": "stdout",
     "output_type": "stream",
     "text": [
      "Training until validation scores don't improve for 50 rounds\n",
      "[50]\tvalid_0's mape: 0.212916\tvalid_0's techjam_score: 91.1111\n",
      "[100]\tvalid_0's mape: 0.195936\tvalid_0's techjam_score: 91.9017\n",
      "[150]\tvalid_0's mape: 0.187757\tvalid_0's techjam_score: 92.2508\n",
      "[200]\tvalid_0's mape: 0.183665\tvalid_0's techjam_score: 92.3926\n",
      "[250]\tvalid_0's mape: 0.18155\tvalid_0's techjam_score: 92.4366\n",
      "[300]\tvalid_0's mape: 0.180453\tvalid_0's techjam_score: 92.442\n",
      "Early stopping, best iteration is:\n",
      "[271]\tvalid_0's mape: 0.181007\tvalid_0's techjam_score: 92.4454\n"
     ]
    }
   ],
   "source": [
    "gbm = lgb.train(model_params,\n",
    "                lgb_train,\n",
    "                num_boost_round=1000,\n",
    "                valid_sets=lgb_eval,\n",
    "                feval= techjam_feval_quantile,\n",
    "                verbose_eval=50,\n",
    "                early_stopping_rounds=50)"
   ]
  },
  {
   "cell_type": "code",
   "execution_count": 135,
   "metadata": {},
   "outputs": [],
   "source": [
    "y_pred = gbm.predict(X_test, num_iteration=gbm.best_iteration)\n",
    "y_pred = qt.inverse_transform(y_pred.reshape((len(y_pred), 1)))[:,0]"
   ]
  },
  {
   "cell_type": "code",
   "execution_count": 136,
   "metadata": {},
   "outputs": [
    {
     "name": "stderr",
     "output_type": "stream",
     "text": [
      "C:\\Users\\phiratath.n\\AppData\\Local\\Continuum\\anaconda3\\lib\\site-packages\\ipykernel_launcher.py:1: SettingWithCopyWarning: \n",
      "A value is trying to be set on a copy of a slice from a DataFrame.\n",
      "Try using .loc[row_indexer,col_indexer] = value instead\n",
      "\n",
      "See the caveats in the documentation: http://pandas.pydata.org/pandas-docs/stable/indexing.html#indexing-view-versus-copy\n",
      "  \"\"\"Entry point for launching an IPython kernel.\n"
     ]
    }
   ],
   "source": [
    "X_test['pred'] = y_pred"
   ]
  },
  {
   "cell_type": "code",
   "execution_count": 137,
   "metadata": {},
   "outputs": [
    {
     "data": {
      "text/plain": [
       "92.28175605101936"
      ]
     },
     "execution_count": 137,
     "metadata": {},
     "output_type": "execute_result"
    }
   ],
   "source": [
    "techjam_score(X_test['pred'],y_test['income'])"
   ]
  },
  {
   "cell_type": "code",
   "execution_count": 138,
   "metadata": {},
   "outputs": [],
   "source": [
    "#### No leak in Validate set"
   ]
  },
  {
   "cell_type": "code",
   "execution_count": 139,
   "metadata": {},
   "outputs": [],
   "source": [
    "qt = QuantileTransformer(n_quantiles=10000, output_distribution='uniform', random_state=42)"
   ]
  },
  {
   "cell_type": "code",
   "execution_count": 140,
   "metadata": {},
   "outputs": [],
   "source": [
    "X_train, X_test, y_train, y_test = train_test_split(X, (y), test_size=0.2, random_state=42)\n",
    "#y_q = qt.fit_transform(y_train.values.reshape((len(y_train), 1)))[:,0]\n",
    "\n",
    "X_train, X_val, y_train, y_val = train_test_split(X_train, (y_train), test_size=0.2, random_state=42)"
   ]
  },
  {
   "cell_type": "code",
   "execution_count": 141,
   "metadata": {},
   "outputs": [],
   "source": [
    "\n",
    "y_raw = y_train.copy()\n",
    "\n",
    "#### Split before use transformer\n",
    "\n",
    "y_train= qt.fit_transform(y_train.values.reshape((len(y_train), 1)))[:,0]\n",
    "\n",
    "### Only transform\n",
    "\n",
    "y_val= qt.transform(y_val.values.reshape((len(y_val), 1)))[:,0]"
   ]
  },
  {
   "cell_type": "code",
   "execution_count": 142,
   "metadata": {},
   "outputs": [],
   "source": [
    "#### Compare distribution"
   ]
  },
  {
   "cell_type": "code",
   "execution_count": 143,
   "metadata": {},
   "outputs": [
    {
     "data": {
      "text/plain": [
       "array([ 53000., 185000.,  21000., ...,  48000., 307000., 198000.])"
      ]
     },
     "execution_count": 143,
     "metadata": {},
     "output_type": "execute_result"
    }
   ],
   "source": [
    "y_raw.values.reshape((len(y_train), 1))[:,0]"
   ]
  },
  {
   "cell_type": "code",
   "execution_count": 144,
   "metadata": {},
   "outputs": [
    {
     "name": "stderr",
     "output_type": "stream",
     "text": [
      "C:\\Users\\phiratath.n\\AppData\\Local\\Continuum\\anaconda3\\lib\\site-packages\\scipy\\stats\\stats.py:1713: FutureWarning: Using a non-tuple sequence for multidimensional indexing is deprecated; use `arr[tuple(seq)]` instead of `arr[seq]`. In the future this will be interpreted as an array index, `arr[np.array(seq)]`, which will result either in an error or a different result.\n",
      "  return np.add.reduce(sorted[indexer] * weights, axis=axis) / sumval\n"
     ]
    },
    {
     "data": {
      "text/plain": [
       "<matplotlib.legend.Legend at 0x28632a89748>"
      ]
     },
     "execution_count": 144,
     "metadata": {},
     "output_type": "execute_result"
    },
    {
     "data": {
      "image/png": "[encoded data removed]",
      "text/plain": [
       "<Figure size 432x288 with 1 Axes>"
      ]
     },
     "metadata": {},
     "output_type": "display_data"
    }
   ],
   "source": [
    "\n",
    "\n",
    "ax = sns.kdeplot(y_raw.values.reshape((len(y_train), 1))[:,0], label='raw_income')\n",
    "#ax = sns.kdeplot(y_train, label='income')\n",
    "ax.set(xlabel='income', ylabel='density')\n",
    "plt.legend()"
   ]
  },
  {
   "cell_type": "code",
   "execution_count": 145,
   "metadata": {},
   "outputs": [
    {
     "name": "stderr",
     "output_type": "stream",
     "text": [
      "C:\\Users\\phiratath.n\\AppData\\Local\\Continuum\\anaconda3\\lib\\site-packages\\scipy\\stats\\stats.py:1713: FutureWarning: Using a non-tuple sequence for multidimensional indexing is deprecated; use `arr[tuple(seq)]` instead of `arr[seq]`. In the future this will be interpreted as an array index, `arr[np.array(seq)]`, which will result either in an error or a different result.\n",
      "  return np.add.reduce(sorted[indexer] * weights, axis=axis) / sumval\n"
     ]
    },
    {
     "data": {
      "text/plain": [
       "<matplotlib.legend.Legend at 0x28632a84550>"
      ]
     },
     "execution_count": 145,
     "metadata": {},
     "output_type": "execute_result"
    },
    {
     "data": {
      "image/png": "[encoded data removed]",
      "text/plain": [
       "<Figure size 432x288 with 1 Axes>"
      ]
     },
     "metadata": {},
     "output_type": "display_data"
    }
   ],
   "source": [
    "#ax = sns.kdeplot(y_raw, label='raw_income')\n",
    "ax = sns.kdeplot(y_train, label='income')\n",
    "ax.set(xlabel='income', ylabel='density')\n",
    "plt.legend()"
   ]
  },
  {
   "cell_type": "code",
   "execution_count": 146,
   "metadata": {},
   "outputs": [],
   "source": [
    "lgb_train = lgb.Dataset(X_train,y_train,free_raw_data=False)\n",
    "lgb_eval = lgb.Dataset(X_val, y_val,free_raw_data=False, reference=lgb_train)"
   ]
  },
  {
   "cell_type": "code",
   "execution_count": 147,
   "metadata": {},
   "outputs": [
    {
     "name": "stdout",
     "output_type": "stream",
     "text": [
      "Training until validation scores don't improve for 50 rounds\n",
      "[50]\tvalid_0's mape: 0.212281\tvalid_0's techjam_score: 91.1147\n",
      "[100]\tvalid_0's mape: 0.195338\tvalid_0's techjam_score: 91.9138\n",
      "[150]\tvalid_0's mape: 0.187178\tvalid_0's techjam_score: 92.2689\n",
      "[200]\tvalid_0's mape: 0.183162\tvalid_0's techjam_score: 92.4083\n",
      "[250]\tvalid_0's mape: 0.181077\tvalid_0's techjam_score: 92.4608\n",
      "[300]\tvalid_0's mape: 0.179962\tvalid_0's techjam_score: 92.4627\n",
      "Early stopping, best iteration is:\n",
      "[276]\tvalid_0's mape: 0.180438\tvalid_0's techjam_score: 92.4662\n"
     ]
    }
   ],
   "source": [
    "gbm = lgb.train(model_params,\n",
    "                lgb_train,\n",
    "                num_boost_round=1000,\n",
    "                valid_sets=lgb_eval,\n",
    "                feval= techjam_feval_quantile,\n",
    "                verbose_eval=50,\n",
    "                early_stopping_rounds=50)"
   ]
  },
  {
   "cell_type": "code",
   "execution_count": 148,
   "metadata": {},
   "outputs": [],
   "source": [
    "y_pred = gbm.predict(X_test, num_iteration=gbm.best_iteration)\n",
    "y_pred = qt.inverse_transform(y_pred.reshape((len(y_pred), 1)))[:,0]"
   ]
  },
  {
   "cell_type": "code",
   "execution_count": 149,
   "metadata": {},
   "outputs": [
    {
     "name": "stderr",
     "output_type": "stream",
     "text": [
      "C:\\Users\\phiratath.n\\AppData\\Local\\Continuum\\anaconda3\\lib\\site-packages\\ipykernel_launcher.py:1: SettingWithCopyWarning: \n",
      "A value is trying to be set on a copy of a slice from a DataFrame.\n",
      "Try using .loc[row_indexer,col_indexer] = value instead\n",
      "\n",
      "See the caveats in the documentation: http://pandas.pydata.org/pandas-docs/stable/indexing.html#indexing-view-versus-copy\n",
      "  \"\"\"Entry point for launching an IPython kernel.\n"
     ]
    }
   ],
   "source": [
    "X_test['pred'] = y_pred"
   ]
  },
  {
   "cell_type": "code",
   "execution_count": 150,
   "metadata": {},
   "outputs": [],
   "source": [
    "pred_score_list.append(y_pred)"
   ]
  },
  {
   "cell_type": "code",
   "execution_count": 151,
   "metadata": {},
   "outputs": [
    {
     "data": {
      "text/plain": [
       "92.27593207725383"
      ]
     },
     "execution_count": 151,
     "metadata": {},
     "output_type": "execute_result"
    }
   ],
   "source": [
    "techjam_score(X_test['pred'],y_test['income'])"
   ]
  },
  {
   "cell_type": "code",
   "execution_count": 152,
   "metadata": {},
   "outputs": [],
   "source": [
    "#### Clip Target"
   ]
  },
  {
   "cell_type": "code",
   "execution_count": 153,
   "metadata": {},
   "outputs": [],
   "source": [
    "X_train, X_test, y_train, y_test = train_test_split(X, (y), test_size=0.2, random_state=42)\n",
    "\n",
    "X_train, X_val, y_train, y_val = train_test_split(X_train, y_train.clip(upper=np.percentile(y_train,95),lower=np.percentile(y_train,5)), test_size=0.2, random_state=42)"
   ]
  },
  {
   "cell_type": "code",
   "execution_count": 154,
   "metadata": {},
   "outputs": [],
   "source": [
    "lgb_train = lgb.Dataset(X_train,y_train,free_raw_data=False)\n",
    "lgb_eval = lgb.Dataset(X_val, y_val,free_raw_data=False, reference=lgb_train)"
   ]
  },
  {
   "cell_type": "code",
   "execution_count": 155,
   "metadata": {},
   "outputs": [
    {
     "name": "stdout",
     "output_type": "stream",
     "text": [
      "Training until validation scores don't improve for 50 rounds\n",
      "[50]\tvalid_0's mape: 0.388875\tvalid_0's techjam_score: 89.9837\n",
      "[100]\tvalid_0's mape: 0.373865\tvalid_0's techjam_score: 90.9595\n",
      "[150]\tvalid_0's mape: 0.365692\tvalid_0's techjam_score: 91.5177\n",
      "[200]\tvalid_0's mape: 0.360425\tvalid_0's techjam_score: 91.9096\n",
      "[250]\tvalid_0's mape: 0.357472\tvalid_0's techjam_score: 92.1444\n",
      "[300]\tvalid_0's mape: 0.355728\tvalid_0's techjam_score: 92.299\n",
      "[350]\tvalid_0's mape: 0.354754\tvalid_0's techjam_score: 92.3985\n",
      "[400]\tvalid_0's mape: 0.354117\tvalid_0's techjam_score: 92.4759\n",
      "[450]\tvalid_0's mape: 0.353721\tvalid_0's techjam_score: 92.5397\n",
      "[500]\tvalid_0's mape: 0.353497\tvalid_0's techjam_score: 92.5884\n",
      "[550]\tvalid_0's mape: 0.353367\tvalid_0's techjam_score: 92.6314\n",
      "[600]\tvalid_0's mape: 0.353289\tvalid_0's techjam_score: 92.6688\n",
      "[650]\tvalid_0's mape: 0.353214\tvalid_0's techjam_score: 92.7009\n",
      "[700]\tvalid_0's mape: 0.353155\tvalid_0's techjam_score: 92.7244\n",
      "[750]\tvalid_0's mape: 0.353196\tvalid_0's techjam_score: 92.7462\n",
      "Early stopping, best iteration is:\n",
      "[715]\tvalid_0's mape: 0.353133\tvalid_0's techjam_score: 92.7293\n"
     ]
    }
   ],
   "source": [
    "gbm = lgb.train(model_params,\n",
    "                lgb_train,\n",
    "                num_boost_round=1000,\n",
    "                valid_sets=lgb_eval,\n",
    "                feval= techjam_feval_no_log,\n",
    "                verbose_eval=50,\n",
    "                early_stopping_rounds=50)"
   ]
  },
  {
   "cell_type": "code",
   "execution_count": 156,
   "metadata": {},
   "outputs": [],
   "source": [
    "y_pred = gbm.predict(X_test, num_iteration=gbm.best_iteration)"
   ]
  },
  {
   "cell_type": "code",
   "execution_count": 157,
   "metadata": {},
   "outputs": [
    {
     "name": "stderr",
     "output_type": "stream",
     "text": [
      "C:\\Users\\phiratath.n\\AppData\\Local\\Continuum\\anaconda3\\lib\\site-packages\\ipykernel_launcher.py:1: SettingWithCopyWarning: \n",
      "A value is trying to be set on a copy of a slice from a DataFrame.\n",
      "Try using .loc[row_indexer,col_indexer] = value instead\n",
      "\n",
      "See the caveats in the documentation: http://pandas.pydata.org/pandas-docs/stable/indexing.html#indexing-view-versus-copy\n",
      "  \"\"\"Entry point for launching an IPython kernel.\n"
     ]
    }
   ],
   "source": [
    "X_test['pred'] = y_pred"
   ]
  },
  {
   "cell_type": "code",
   "execution_count": 158,
   "metadata": {},
   "outputs": [
    {
     "data": {
      "text/plain": [
       "91.63595838629361"
      ]
     },
     "execution_count": 158,
     "metadata": {},
     "output_type": "execute_result"
    }
   ],
   "source": [
    "techjam_score(X_test['pred'],y_test['income'])"
   ]
  },
  {
   "cell_type": "code",
   "execution_count": 159,
   "metadata": {},
   "outputs": [],
   "source": [
    "pred_score_list.append(y_pred)"
   ]
  },
  {
   "cell_type": "markdown",
   "metadata": {},
   "source": [
    "# Predict Distribution "
   ]
  },
  {
   "cell_type": "code",
   "execution_count": 160,
   "metadata": {},
   "outputs": [],
   "source": [
    "bin_df  = pd.DataFrame(y_test)\n",
    "for i in range(5):\n",
    "    bin_df.loc[(bin_df['income'] > 20000*i)&(bin_df['income'] <= 20000*(i+1)),'bin']=i\n",
    "    if i==4:\n",
    "        bin_df.loc[(bin_df['income'] > 100000),'bin']=i"
   ]
  },
  {
   "cell_type": "code",
   "execution_count": 161,
   "metadata": {},
   "outputs": [
    {
     "name": "stderr",
     "output_type": "stream",
     "text": [
      "C:\\Users\\phiratath.n\\AppData\\Local\\Continuum\\anaconda3\\lib\\site-packages\\scipy\\stats\\stats.py:1713: FutureWarning: Using a non-tuple sequence for multidimensional indexing is deprecated; use `arr[tuple(seq)]` instead of `arr[seq]`. In the future this will be interpreted as an array index, `arr[np.array(seq)]`, which will result either in an error or a different result.\n",
      "  return np.add.reduce(sorted[indexer] * weights, axis=axis) / sumval\n"
     ]
    },
    {
     "data": {
      "text/plain": [
       "<matplotlib.legend.Legend at 0x28632e592b0>"
      ]
     },
     "execution_count": 161,
     "metadata": {},
     "output_type": "execute_result"
    },
    {
     "data": {
      "image/png": "[encoded data removed]",
      "text/plain": [
       "<Figure size 432x288 with 1 Axes>"
      ]
     },
     "metadata": {},
     "output_type": "display_data"
    }
   ],
   "source": [
    "ax = sns.kdeplot(pred_score_list[0], label='loged_income')\n",
    "ax = sns.kdeplot(pred_score_list[1], label='income')\n",
    "ax = sns.kdeplot(pred_score_list[-1], label='clipped_income')\n",
    "ax = sns.kdeplot(pred_score_list[2], label='quantile_income')\n",
    "ax.set(xlabel='income', ylabel='density')\n",
    "plt.legend()"
   ]
  },
  {
   "cell_type": "code",
   "execution_count": 162,
   "metadata": {},
   "outputs": [],
   "source": [
    "bin_df['loged_income']=pred_score_list[0]\n",
    "bin_df['raw_income']=pred_score_list[1]\n",
    "bin_df['clipped_income']=pred_score_list[3]\n",
    "bin_df['quantile_income']=pred_score_list[2]"
   ]
  },
  {
   "cell_type": "code",
   "execution_count": 163,
   "metadata": {},
   "outputs": [
    {
     "data": {
      "text/html": [
       "<div>\n",
       "<style scoped>\n",
       "    .dataframe tbody tr th:only-of-type {\n",
       "        vertical-align: middle;\n",
       "    }\n",
       "\n",
       "    .dataframe tbody tr th {\n",
       "        vertical-align: top;\n",
       "    }\n",
       "\n",
       "    .dataframe thead th {\n",
       "        text-align: right;\n",
       "    }\n",
       "</style>\n",
       "<table border=\"1\" class=\"dataframe\">\n",
       "  <thead>\n",
       "    <tr style=\"text-align: right;\">\n",
       "      <th></th>\n",
       "      <th>income</th>\n",
       "      <th>bin</th>\n",
       "      <th>loged_income</th>\n",
       "      <th>raw_income</th>\n",
       "      <th>clipped_income</th>\n",
       "      <th>quantile_income</th>\n",
       "    </tr>\n",
       "    <tr>\n",
       "      <th>id</th>\n",
       "      <th></th>\n",
       "      <th></th>\n",
       "      <th></th>\n",
       "      <th></th>\n",
       "      <th></th>\n",
       "      <th></th>\n",
       "    </tr>\n",
       "  </thead>\n",
       "  <tbody>\n",
       "    <tr>\n",
       "      <th>33554</th>\n",
       "      <td>72000.0</td>\n",
       "      <td>3.0</td>\n",
       "      <td>56011.912599</td>\n",
       "      <td>40597.516939</td>\n",
       "      <td>40263.711421</td>\n",
       "      <td>56000.0</td>\n",
       "    </tr>\n",
       "    <tr>\n",
       "      <th>9428</th>\n",
       "      <td>53000.0</td>\n",
       "      <td>2.0</td>\n",
       "      <td>25631.834859</td>\n",
       "      <td>17937.363597</td>\n",
       "      <td>18894.911663</td>\n",
       "      <td>27000.0</td>\n",
       "    </tr>\n",
       "    <tr>\n",
       "      <th>200</th>\n",
       "      <td>19000.0</td>\n",
       "      <td>0.0</td>\n",
       "      <td>22324.826111</td>\n",
       "      <td>19225.134107</td>\n",
       "      <td>19602.715812</td>\n",
       "      <td>22000.0</td>\n",
       "    </tr>\n",
       "    <tr>\n",
       "      <th>12448</th>\n",
       "      <td>22000.0</td>\n",
       "      <td>1.0</td>\n",
       "      <td>25396.686309</td>\n",
       "      <td>19986.801052</td>\n",
       "      <td>19998.494584</td>\n",
       "      <td>26000.0</td>\n",
       "    </tr>\n",
       "    <tr>\n",
       "      <th>39490</th>\n",
       "      <td>24000.0</td>\n",
       "      <td>1.0</td>\n",
       "      <td>21497.859784</td>\n",
       "      <td>17565.043248</td>\n",
       "      <td>17994.476844</td>\n",
       "      <td>20000.0</td>\n",
       "    </tr>\n",
       "  </tbody>\n",
       "</table>\n",
       "</div>"
      ],
      "text/plain": [
       "        income  bin  loged_income    raw_income  clipped_income  \\\n",
       "id                                                                \n",
       "33554  72000.0  3.0  56011.912599  40597.516939    40263.711421   \n",
       "9428   53000.0  2.0  25631.834859  17937.363597    18894.911663   \n",
       "200    19000.0  0.0  22324.826111  19225.134107    19602.715812   \n",
       "12448  22000.0  1.0  25396.686309  19986.801052    19998.494584   \n",
       "39490  24000.0  1.0  21497.859784  17565.043248    17994.476844   \n",
       "\n",
       "       quantile_income  \n",
       "id                      \n",
       "33554          56000.0  \n",
       "9428           27000.0  \n",
       "200            22000.0  \n",
       "12448          26000.0  \n",
       "39490          20000.0  "
      ]
     },
     "execution_count": 163,
     "metadata": {},
     "output_type": "execute_result"
    }
   ],
   "source": [
    "bin_df.head()"
   ]
  },
  {
   "cell_type": "code",
   "execution_count": 164,
   "metadata": {},
   "outputs": [],
   "source": [
    "y_test =bin_df['income'].values"
   ]
  },
  {
   "cell_type": "code",
   "execution_count": 165,
   "metadata": {},
   "outputs": [],
   "source": [
    "score_summary = pd.DataFrame(bin_df.apply(lambda x:techjam_score(x,y_test)),columns=['techjam_score'])"
   ]
  },
  {
   "cell_type": "code",
   "execution_count": 166,
   "metadata": {},
   "outputs": [
    {
     "data": {
      "text/html": [
       "<div>\n",
       "<style scoped>\n",
       "    .dataframe tbody tr th:only-of-type {\n",
       "        vertical-align: middle;\n",
       "    }\n",
       "\n",
       "    .dataframe tbody tr th {\n",
       "        vertical-align: top;\n",
       "    }\n",
       "\n",
       "    .dataframe thead th {\n",
       "        text-align: right;\n",
       "    }\n",
       "</style>\n",
       "<table border=\"1\" class=\"dataframe\">\n",
       "  <thead>\n",
       "    <tr style=\"text-align: right;\">\n",
       "      <th></th>\n",
       "      <th>techjam_score</th>\n",
       "    </tr>\n",
       "  </thead>\n",
       "  <tbody>\n",
       "    <tr>\n",
       "      <th>loged_income</th>\n",
       "      <td>92.239963</td>\n",
       "    </tr>\n",
       "    <tr>\n",
       "      <th>raw_income</th>\n",
       "      <td>91.493528</td>\n",
       "    </tr>\n",
       "    <tr>\n",
       "      <th>clipped_income</th>\n",
       "      <td>91.635958</td>\n",
       "    </tr>\n",
       "    <tr>\n",
       "      <th>quantile_income</th>\n",
       "      <td>92.275932</td>\n",
       "    </tr>\n",
       "  </tbody>\n",
       "</table>\n",
       "</div>"
      ],
      "text/plain": [
       "                 techjam_score\n",
       "loged_income         92.239963\n",
       "raw_income           91.493528\n",
       "clipped_income       91.635958\n",
       "quantile_income      92.275932"
      ]
     },
     "execution_count": 166,
     "metadata": {},
     "output_type": "execute_result"
    }
   ],
   "source": [
    "score_summary.iloc[2:,:]"
   ]
  },
  {
   "cell_type": "code",
   "execution_count": 167,
   "metadata": {},
   "outputs": [],
   "source": [
    "df_log=pd.DataFrame(bin_df.groupby('bin').apply(lambda x: techjam_score(x['loged_income'],x['income'])))\n",
    "df_raw=pd.DataFrame(bin_df.groupby('bin').apply(lambda x: techjam_score(x['raw_income'],x['income'])))\n",
    "df_clip=pd.DataFrame(bin_df.groupby('bin').apply(lambda x: techjam_score(x['clipped_income'],x['income'])))\n",
    "df_quantile=pd.DataFrame(bin_df.groupby('bin').apply(lambda x: techjam_score(x['quantile_income'],x['income'])))\n",
    "bin_summary = pd.concat([df_raw,df_clip,df_log,df_quantile],axis=1)"
   ]
  },
  {
   "cell_type": "code",
   "execution_count": 168,
   "metadata": {},
   "outputs": [],
   "source": [
    "bin_summary.columns = ['raw_income','clipped_income','loged_income','quantile_income']"
   ]
  },
  {
   "cell_type": "code",
   "execution_count": 169,
   "metadata": {},
   "outputs": [],
   "source": [
    "bin_summary['income bin'] = ['0-20,000','20,000-40,000','40,000-60,000','60,000-80,000','100,000+']"
   ]
  },
  {
   "cell_type": "code",
   "execution_count": 170,
   "metadata": {},
   "outputs": [
    {
     "data": {
      "text/html": [
       "<div>\n",
       "<style scoped>\n",
       "    .dataframe tbody tr th:only-of-type {\n",
       "        vertical-align: middle;\n",
       "    }\n",
       "\n",
       "    .dataframe tbody tr th {\n",
       "        vertical-align: top;\n",
       "    }\n",
       "\n",
       "    .dataframe thead th {\n",
       "        text-align: right;\n",
       "    }\n",
       "</style>\n",
       "<table border=\"1\" class=\"dataframe\">\n",
       "  <thead>\n",
       "    <tr style=\"text-align: right;\">\n",
       "      <th></th>\n",
       "      <th>raw_income</th>\n",
       "      <th>clipped_income</th>\n",
       "      <th>loged_income</th>\n",
       "      <th>quantile_income</th>\n",
       "      <th>income bin</th>\n",
       "    </tr>\n",
       "    <tr>\n",
       "      <th>bin</th>\n",
       "      <th></th>\n",
       "      <th></th>\n",
       "      <th></th>\n",
       "      <th></th>\n",
       "      <th></th>\n",
       "    </tr>\n",
       "  </thead>\n",
       "  <tbody>\n",
       "    <tr>\n",
       "      <th>0.0</th>\n",
       "      <td>95.310972</td>\n",
       "      <td>94.906782</td>\n",
       "      <td>90.333004</td>\n",
       "      <td>90.971930</td>\n",
       "      <td>0-20,000</td>\n",
       "    </tr>\n",
       "    <tr>\n",
       "      <th>1.0</th>\n",
       "      <td>98.038220</td>\n",
       "      <td>98.074005</td>\n",
       "      <td>98.069536</td>\n",
       "      <td>98.137271</td>\n",
       "      <td>20,000-40,000</td>\n",
       "    </tr>\n",
       "    <tr>\n",
       "      <th>2.0</th>\n",
       "      <td>92.292365</td>\n",
       "      <td>92.528112</td>\n",
       "      <td>95.105940</td>\n",
       "      <td>94.789582</td>\n",
       "      <td>40,000-60,000</td>\n",
       "    </tr>\n",
       "    <tr>\n",
       "      <th>3.0</th>\n",
       "      <td>86.161002</td>\n",
       "      <td>86.660274</td>\n",
       "      <td>91.077640</td>\n",
       "      <td>90.553254</td>\n",
       "      <td>60,000-80,000</td>\n",
       "    </tr>\n",
       "    <tr>\n",
       "      <th>4.0</th>\n",
       "      <td>65.962572</td>\n",
       "      <td>67.199394</td>\n",
       "      <td>75.473119</td>\n",
       "      <td>74.938327</td>\n",
       "      <td>100,000+</td>\n",
       "    </tr>\n",
       "  </tbody>\n",
       "</table>\n",
       "</div>"
      ],
      "text/plain": [
       "     raw_income  clipped_income  loged_income  quantile_income     income bin\n",
       "bin                                                                          \n",
       "0.0   95.310972       94.906782     90.333004        90.971930       0-20,000\n",
       "1.0   98.038220       98.074005     98.069536        98.137271  20,000-40,000\n",
       "2.0   92.292365       92.528112     95.105940        94.789582  40,000-60,000\n",
       "3.0   86.161002       86.660274     91.077640        90.553254  60,000-80,000\n",
       "4.0   65.962572       67.199394     75.473119        74.938327       100,000+"
      ]
     },
     "execution_count": 170,
     "metadata": {},
     "output_type": "execute_result"
    }
   ],
   "source": [
    "bin_summary"
   ]
  },
  {
   "cell_type": "code",
   "execution_count": 171,
   "metadata": {},
   "outputs": [
    {
     "data": {
      "text/plain": [
       "[Text(0,0,'0-20,000'),\n",
       " Text(0,0,'20,000-40,000'),\n",
       " Text(0,0,'40,000-60,000'),\n",
       " Text(0,0,'60,000-80,000'),\n",
       " Text(0,0,'100,000+')]"
      ]
     },
     "execution_count": 171,
     "metadata": {},
     "output_type": "execute_result"
    },
    {
     "data": {
      "image/png": "[encoded data removed]",
      "text/plain": [
       "<Figure size 864x648 with 1 Axes>"
      ]
     },
     "metadata": {},
     "output_type": "display_data"
    }
   ],
   "source": [
    "fig_dims = (12, 9)\n",
    "data = bin_summary.melt('income bin', var_name='group_income', value_name='techjam_score')\n",
    "fig, ax = plt.subplots(figsize=fig_dims)\n",
    "ax=sns.barplot(x='income bin', y='techjam_score', hue='group_income', data=data)\n",
    "\n",
    "ax.set_xticklabels(ax.get_xticklabels())"
   ]
  },
  {
   "cell_type": "code",
   "execution_count": null,
   "metadata": {},
   "outputs": [],
   "source": []
  }
 ],
 "metadata": {
  "kernelspec": {
   "display_name": "Python 3",
   "language": "python",
   "name": "python3"
  },
  "language_info": {
   "codemirror_mode": {
    "name": "ipython",
    "version": 3
   },
   "file_extension": ".py",
   "mimetype": "text/x-python",
   "name": "python",
   "nbconvert_exporter": "python",
   "pygments_lexer": "ipython3",
   "version": "3.6.5"
  }
 },
 "nbformat": 4,
 "nbformat_minor": 1
}
