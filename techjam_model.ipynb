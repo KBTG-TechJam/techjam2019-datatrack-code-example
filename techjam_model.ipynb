{
 "cells": [
  {
   "cell_type": "markdown",
   "metadata": {
    "toc": true
   },
   "source": [
    "<h1>Table of Contents<span class=\"tocSkip\"></span></h1>\n",
    "<div class=\"toc\"><ul class=\"toc-item\"></ul></div>"
   ]
  },
  {
   "cell_type": "code",
   "execution_count": null,
   "metadata": {},
   "outputs": [],
   "source": [
    "import os\n",
    "import datetime\n",
    "import gc\n",
    "\n",
    "import numpy as np\n",
    "import pandas as pd\n",
    "import lightgbm\n",
    "from sklearn.preprocessing import StandardScaler\n",
    "from tqdm import tqdm_notebook\n",
    "### feature engineer part\n",
    "import techjam_fe\n"
   ]
  },
  {
   "cell_type": "code",
   "execution_count": null,
   "metadata": {},
   "outputs": [],
   "source": [
    "# Edit data directory here\n",
    "DATA_DIR = \".\\\\techjam\""
   ]
  },
  {
   "cell_type": "code",
   "execution_count": null,
   "metadata": {},
   "outputs": [],
   "source": [
    "X_train, y_train, X_test =  get_prep_data(DATA_DIR)"
   ]
  },
  {
   "cell_type": "code",
   "execution_count": null,
   "metadata": {},
   "outputs": [],
   "source": [
    "cat_feature = ['gender','ocp_cd','age_gnd','gnd_ocp','age_ocp', 'age']"
   ]
  },
  {
   "cell_type": "code",
   "execution_count": null,
   "metadata": {},
   "outputs": [],
   "source": [
    "def techjam_score(y_pred, y_true):\n",
    "    y_pred = np.array(y_pred)\n",
    "    y_true = np.array(y_true)\n",
    "    \n",
    "    return 100 - 100 * np.mean((y_pred-y_true) ** 2 / (np.minimum(2*y_true, y_pred) + y_true)**2)"
   ]
  },
  {
   "cell_type": "code",
   "execution_count": null,
   "metadata": {},
   "outputs": [],
   "source": [
    "def techjam_feval_log(y_pred, dtrain):\n",
    "    y_true = dtrain.get_label()\n",
    "    return 'techjam_score', techjam_score(np.exp(y_pred), np.exp(y_true)), True"
   ]
  },
  {
   "cell_type": "code",
   "execution_count": null,
   "metadata": {},
   "outputs": [],
   "source": [
    "for cat in cat_feature:\n",
    "    X_test[cat] =X_test[cat].astype(int)\n",
    "    X_train[cat] =X_train[cat].astype(int)\n",
    "\n",
    "train_data = lightgbm.Dataset(X_train, label=y_train, categorical_feature=cat_feature , free_raw_data=False)\n",
    "\n",
    "num_leaves_choices = [15, 31, 63, 127, 200, 255, 300, 350, 400,511 ,600]\n",
    "ft_frac_choices = [0.6, 0.7, 0.8, 0.9, 1.0]\n",
    "bagging_frac_choices = [0.6, 0.7, 0.8, 0.9, 1.0]\n",
    "\n",
    "# We will store the cross validation results in a simple list,\n",
    "# with tuples in the form of (hyperparam dict, cv score):\n",
    "cv_results = []\n",
    "\n",
    "\n",
    "for num_lv in tqdm_notebook(num_leaves_choices):\n",
    "    for bg_fac in bagging_frac_choices:\n",
    "        for ft_fac in ft_frac_choices:\n",
    "            hyperparams = {\"boosting_type\":'gbdt',\n",
    "                            \"objective\": 'mape',\n",
    "                            \"metrics\": 'None',\n",
    "                            \"num_leaves\": num_lv,\n",
    "                            \"feature_fraction\": ft_fac,\n",
    "                            \"bagging_fraction\": bg_fac,\n",
    "                            \"learning_rate\": 0.01\n",
    "                                     }\n",
    "            validation_summary = lightgbm.cv(hyperparams,\n",
    "                                            train_data,\n",
    "                                            num_boost_round=10000,\n",
    "                                            nfold=5,\n",
    "                                            feval=techjam_feval_log,\n",
    "                                            stratified=False,\n",
    "                                            shuffle=True,\n",
    "                                            early_stopping_rounds=50,\n",
    "                                            verbose_eval=10)\n",
    "            \n",
    "            optimal_num_trees = len(validation_summary[\"techjam_score-mean\"])\n",
    "            \n",
    "            # to the hyperparameter dictionary:\n",
    "            hyperparams[\"num_boost_round\"] = optimal_num_trees\n",
    "\n",
    "           # And we append results to cv_results:\n",
    "            cv_results.append((hyperparams, validation_summary[\"techjam_score-mean\"][-1]))"
   ]
  },
  {
   "cell_type": "code",
   "execution_count": null,
   "metadata": {},
   "outputs": [],
   "source": [
    "sort_cv_result = sorted(cv_results, key=lambda tup:tup[1])"
   ]
  },
  {
   "cell_type": "code",
   "execution_count": null,
   "metadata": {},
   "outputs": [],
   "source": [
    "sort_cv_result[-1]"
   ]
  },
  {
   "cell_type": "code",
   "execution_count": null,
   "metadata": {},
   "outputs": [],
   "source": [
    "#select parameter score > 92.21"
   ]
  },
  {
   "cell_type": "code",
   "execution_count": null,
   "metadata": {},
   "outputs": [],
   "source": [
    "### select best 10 models\n",
    "MODELS=[] \n",
    "for params_and_score in tqdm_notebook(sort_cv_result[-10:]):\n",
    "    params = params_and_score[0]\n",
    "    model = lightgbm.train(params,\n",
    "                train_data,\n",
    "               )\n",
    "    MODELS.append(model)"
   ]
  },
  {
   "cell_type": "code",
   "execution_count": null,
   "metadata": {},
   "outputs": [],
   "source": [
    "### ensemble 10 models \n",
    "pred = []\n",
    "for model in MODELS:\n",
    "    y_pred = model.predict(X_test)\n",
    "    y_pred = np.exp(y_pred)\n",
    "    pred.append(y_pred)"
   ]
  },
  {
   "cell_type": "code",
   "execution_count": null,
   "metadata": {},
   "outputs": [],
   "source": [
    "pred=np.array(pred)\n",
    "# perform ensemble\n",
    "final_pred = pred.mean(axis=0)\n"
   ]
  },
  {
   "cell_type": "code",
   "execution_count": null,
   "metadata": {},
   "outputs": [],
   "source": [
    "### Create submission dataframe\n",
    "submission = pd.DataFrame()\n",
    "submission['id'] = [i for i in range(50001,65001)] \n",
    "submission['final_pred'] = final_pred"
   ]
  }
 ],
 "metadata": {
  "kernelspec": {
   "display_name": "Python 3",
   "language": "python",
   "name": "python3"
  },
  "language_info": {
   "codemirror_mode": {
    "name": "ipython",
    "version": 3
   },
   "file_extension": ".py",
   "mimetype": "text/x-python",
   "name": "python",
   "nbconvert_exporter": "python",
   "pygments_lexer": "ipython3",
   "version": "3.6.5"
  },
  "toc": {
   "base_numbering": 1,
   "nav_menu": {},
   "number_sections": true,
   "sideBar": true,
   "skip_h1_title": false,
   "title_cell": "Table of Contents",
   "title_sidebar": "Contents",
   "toc_cell": true,
   "toc_position": {},
   "toc_section_display": true,
   "toc_window_display": true
  }
 },
 "nbformat": 4,
 "nbformat_minor": 2
}
